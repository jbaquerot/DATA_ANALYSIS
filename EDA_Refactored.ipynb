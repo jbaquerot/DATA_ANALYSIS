{
 "cells": [
  {
   "cell_type": "markdown",
   "metadata": {},
   "source": [
    "# E-commerce Business Analytics Dashboard\n",
    "\n",
    "**Business Intelligence Report**  \n",
    "*Comprehensive analysis of e-commerce performance metrics*\n",
    "\n",
    "---\n",
    "\n",
    "## Table of Contents\n",
    "\n",
    "1. [Business Objectives & Configuration](#business-objectives)\n",
    "2. [Data Dictionary & Overview](#data-dictionary)\n",
    "3. [Data Loading & Preparation](#data-loading)\n",
    "4. [Revenue Performance Analysis](#revenue-analysis)\n",
    "5. [Product Performance Analysis](#product-analysis)\n",
    "6. [Geographic Performance Analysis](#geographic-analysis)\n",
    "7. [Customer Experience Analysis](#customer-experience)\n",
    "8. [Operational Metrics](#operational-metrics)\n",
    "9. [Executive Summary](#executive-summary)\n",
    "\n",
    "---"
   ]
  },
  {
   "cell_type": "markdown",
   "metadata": {},
   "source": [
    "## 1. Business Objectives & Configuration {#business-objectives}\n",
    "\n",
    "This analysis focuses on understanding business performance across multiple dimensions:\n",
    "\n",
    "**Key Business Questions:**\n",
    "- How did revenue perform in the target period compared to the previous period?\n",
    "- What are the month-over-month growth trends?\n",
    "- Which product categories drive the most revenue?\n",
    "- How does performance vary by geographic region?\n",
    "- What is the relationship between delivery speed and customer satisfaction?\n",
    "\n",
    "**Analysis Configuration:**\n",
    "Configure your analysis parameters below:"
   ]
  },
  {
   "cell_type": "code",
   "execution_count": 23,
   "metadata": {},
   "outputs": [
    {
     "name": "stdout",
     "output_type": "stream",
     "text": [
      "Analysis Configuration:\n",
      "Target Period: 2023\n",
      "Comparison Period: 2022\n",
      "Month Range: Full Year\n"
     ]
    }
   ],
   "source": [
    "# Analysis Configuration\n",
    "TARGET_YEAR = 2023  # Primary year for analysis\n",
    "COMPARISON_YEAR = 2022  # Comparison year for growth analysis\n",
    "DATA_PATH = \"ecommerce_data/\"  # Path to data files\n",
    "\n",
    "# Optional: Filter by specific months (None for full year)\n",
    "TARGET_START_MONTH = None  # 1-12, None for full year\n",
    "TARGET_END_MONTH = None    # 1-12, None for full year\n",
    "\n",
    "print(f\"Analysis Configuration:\")\n",
    "print(f\"Target Period: {TARGET_YEAR}\")\n",
    "print(f\"Comparison Period: {COMPARISON_YEAR}\")\n",
    "if TARGET_START_MONTH and TARGET_END_MONTH:\n",
    "    print(f\"Month Range: {TARGET_START_MONTH} to {TARGET_END_MONTH}\")\n",
    "else:\n",
    "    print(f\"Month Range: Full Year\")"
   ]
  },
  {
   "cell_type": "markdown",
   "metadata": {},
   "source": [
    "## 2. Data Dictionary & Overview {#data-dictionary}\n",
    "\n",
    "**Dataset Overview:**\n",
    "\n",
    "| Dataset | Description | Key Fields |\n",
    "|---------|-------------|------------|\n",
    "| **Orders** | Order transactions and status | order_id, customer_id, order_status, timestamps |\n",
    "| **Order Items** | Individual items within orders | order_id, product_id, price, freight_value |\n",
    "| **Products** | Product catalog information | product_id, category_name, dimensions |\n",
    "| **Customers** | Customer demographics | customer_id, state, city, zip_code |\n",
    "| **Reviews** | Customer feedback and ratings | order_id, review_score, comments |\n",
    "\n",
    "**Key Business Metrics:**\n",
    "- **Revenue**: Total sales value from delivered orders\n",
    "- **Average Order Value (AOV)**: Average revenue per order\n",
    "- **Customer Satisfaction**: Average review score (1-5 scale)\n",
    "- **Delivery Performance**: Days from purchase to delivery\n",
    "- **Order Status Distribution**: Percentage of orders by status"
   ]
  },
  {
   "cell_type": "markdown",
   "metadata": {},
   "source": [
    "## 3. Data Loading & Preparation {#data-loading}\n",
    "\n",
    "Loading and preprocessing all e-commerce datasets with proper data types and validation."
   ]
  },
  {
   "cell_type": "code",
   "execution_count": 24,
   "metadata": {},
   "outputs": [
    {
     "name": "stdout",
     "output_type": "stream",
     "text": [
      "Libraries loaded successfully\n"
     ]
    }
   ],
   "source": [
    "# Import required libraries\n",
    "import pandas as pd\n",
    "import numpy as np\n",
    "import matplotlib.pyplot as plt\n",
    "import seaborn as sns\n",
    "import plotly.express as px\n",
    "import plotly.graph_objects as go\n",
    "from plotly.subplots import make_subplots\n",
    "import warnings\n",
    "\n",
    "# Import custom modules\n",
    "from data_loader import EcommerceDataLoader, load_and_prepare_data\n",
    "from business_metrics import EcommerceMetrics, MetricsVisualizer, generate_executive_summary\n",
    "\n",
    "# Configure display options\n",
    "pd.set_option('display.max_columns', None)\n",
    "pd.set_option('display.width', 1000)\n",
    "warnings.filterwarnings('ignore')\n",
    "\n",
    "print(\"Libraries loaded successfully\")"
   ]
  },
  {
   "cell_type": "code",
   "execution_count": 25,
   "metadata": {},
   "outputs": [
    {
     "name": "stdout",
     "output_type": "stream",
     "text": [
      "Loading e-commerce datasets...\n",
      "==================================================\n",
      "Loaded orders: (10000, 8)\n",
      "Loaded order_items: (16047, 7)\n",
      "Loaded products: (6000, 9)\n",
      "Loaded customers: (8000, 5)\n",
      "Loaded reviews: (6571, 7)\n",
      "Loaded payments: (14091, 5)\n",
      "\n",
      "Data Summary:\n",
      "Total sales records: 16,047\n",
      "Delivered orders: 15,095\n",
      "Records for 2023: 7,448\n",
      "Records for 2022: 7,641\n",
      "\n",
      "Data loading completed successfully!\n"
     ]
    }
   ],
   "source": [
    "# Load and prepare all datasets\n",
    "print(\"Loading e-commerce datasets...\")\n",
    "print(\"=\"*50)\n",
    "\n",
    "sales_data, datasets = load_and_prepare_data(\n",
    "    data_path=DATA_PATH,\n",
    "    target_year=TARGET_YEAR,\n",
    "    comparison_year=COMPARISON_YEAR\n",
    ")\n",
    "\n",
    "print(\"\\nData loading completed successfully!\")"
   ]
  },
  {
   "cell_type": "code",
   "execution_count": 26,
   "metadata": {},
   "outputs": [
    {
     "name": "stdout",
     "output_type": "stream",
     "text": [
      "Dataset Filtering Results:\n",
      "Target period (2023): 7,448 records\n",
      "Comparison period (2022): 7,641 records\n",
      "\n",
      "Data Quality Check:\n",
      "Target period revenue: $3,360,294.74\n",
      "Target period orders: 4,635\n"
     ]
    }
   ],
   "source": [
    "# Create data loader instance for filtering\n",
    "loader = EcommerceDataLoader(DATA_PATH)\n",
    "\n",
    "# Filter data for target and comparison periods\n",
    "target_data = loader.filter_by_date_range(\n",
    "    sales_data, 'order_purchase_timestamp',\n",
    "    start_year=TARGET_YEAR, end_year=TARGET_YEAR,\n",
    "    start_month=TARGET_START_MONTH, end_month=TARGET_END_MONTH\n",
    ")\n",
    "\n",
    "comparison_data = loader.filter_by_date_range(\n",
    "    sales_data, 'order_purchase_timestamp',\n",
    "    start_year=COMPARISON_YEAR, end_year=COMPARISON_YEAR,\n",
    "    start_month=TARGET_START_MONTH, end_month=TARGET_END_MONTH\n",
    ")\n",
    "\n",
    "print(f\"Dataset Filtering Results:\")\n",
    "print(f\"Target period ({TARGET_YEAR}): {len(target_data):,} records\")\n",
    "print(f\"Comparison period ({COMPARISON_YEAR}): {len(comparison_data):,} records\")\n",
    "print(f\"\\nData Quality Check:\")\n",
    "print(f\"Target period revenue: ${target_data['price'].sum():,.2f}\")\n",
    "print(f\"Target period orders: {target_data['order_id'].nunique():,}\")"
   ]
  },
  {
   "cell_type": "markdown",
   "metadata": {},
   "source": [
    "## 4. Revenue Performance Analysis {#revenue-analysis}\n",
    "\n",
    "Comprehensive analysis of revenue performance including year-over-year comparison and monthly trends."
   ]
  },
  {
   "cell_type": "code",
   "execution_count": 27,
   "metadata": {},
   "outputs": [
    {
     "name": "stdout",
     "output_type": "stream",
     "text": [
      "REVENUE PERFORMANCE METRICS\n",
      "==================================================\n",
      "\n",
      "2023 Performance:\n",
      "Total Revenue: $3,360,294.74\n",
      "Total Orders: 4,635\n",
      "Average Order Value: $724.98\n",
      "Total Items Sold: 7,448\n",
      "\n",
      "Year-over-Year Growth vs 2022:\n",
      "Revenue Growth: -2.46%\n",
      "Order Growth: -2.40%\n",
      "AOV Growth: -0.06%\n"
     ]
    }
   ],
   "source": [
    "# Calculate comprehensive revenue metrics\n",
    "metrics = EcommerceMetrics()\n",
    "revenue_metrics = metrics.calculate_revenue_metrics(\n",
    "    target_data, comparison_data, \n",
    "    current_period=str(TARGET_YEAR),\n",
    "    comparison_period=str(COMPARISON_YEAR)\n",
    ")\n",
    "\n",
    "# Display key revenue metrics\n",
    "print(\"REVENUE PERFORMANCE METRICS\")\n",
    "print(\"=\"*50)\n",
    "print(f\"\\n{TARGET_YEAR} Performance:\")\n",
    "print(f\"Total Revenue: ${revenue_metrics[f'{TARGET_YEAR}_total_revenue']:,.2f}\")\n",
    "print(f\"Total Orders: {revenue_metrics[f'{TARGET_YEAR}_total_orders']:,}\")\n",
    "print(f\"Average Order Value: ${revenue_metrics[f'{TARGET_YEAR}_avg_order_value']:.2f}\")\n",
    "print(f\"Total Items Sold: {revenue_metrics[f'{TARGET_YEAR}_total_items']:,}\")\n",
    "\n",
    "print(f\"\\nYear-over-Year Growth vs {COMPARISON_YEAR}:\")\n",
    "print(f\"Revenue Growth: {revenue_metrics['revenue_growth_rate']:+.2f}%\")\n",
    "print(f\"Order Growth: {revenue_metrics['order_growth_rate']:+.2f}%\")\n",
    "print(f\"AOV Growth: {revenue_metrics['aov_growth_rate']:+.2f}%\")"
   ]
  },
  {
   "cell_type": "code",
   "execution_count": 28,
   "metadata": {},
   "outputs": [
    {
     "data": {
      "image/png": "[encoded data removed]",
      "text/plain": [
       "<Figure size 1500x1000 with 4 Axes>"
      ]
     },
     "metadata": {},
     "output_type": "display_data"
    }
   ],
   "source": [
    "# Create revenue comparison visualization\n",
    "visualizer = MetricsVisualizer()\n",
    "revenue_fig = visualizer.plot_revenue_comparison(\n",
    "    revenue_metrics, str(TARGET_YEAR), str(COMPARISON_YEAR)\n",
    ")\n",
    "\n",
    "plt.show()\n",
    "plt.close()"
   ]
  },
  {
   "cell_type": "code",
   "execution_count": 29,
   "metadata": {},
   "outputs": [
    {
     "name": "stdout",
     "output_type": "stream",
     "text": [
      "MONTHLY TRENDS ANALYSIS\n",
      "==================================================\n",
      "\n",
      "Monthly Revenue Summary for 2023:\n",
      "    month    revenue  orders  avg_order_value\n",
      "0       1  284855.48     384           741.81\n",
      "1       2  276758.54     384           720.73\n",
      "2       3  285618.77     394           724.92\n",
      "3       4  253794.62     370           685.93\n",
      "4       5  301347.96     396           760.98\n",
      "5       6  289126.72     406           712.13\n",
      "6       7  296209.39     392           755.64\n",
      "7       8  286645.60     375           764.39\n",
      "8       9  303793.15     384           791.13\n",
      "9      10  259890.15     379           685.73\n",
      "10     11  259518.93     384           675.83\n",
      "11     12  262735.43     387           678.90\n",
      "\n",
      "Average Monthly Growth Rates:\n",
      "Revenue Growth: -0.39%\n",
      "Order Growth: 0.13%\n",
      "AOV Growth: -0.61%\n"
     ]
    }
   ],
   "source": [
    "# Calculate and visualize monthly trends\n",
    "monthly_trends = metrics.calculate_monthly_trends(target_data, TARGET_YEAR)\n",
    "\n",
    "print(\"MONTHLY TRENDS ANALYSIS\")\n",
    "print(\"=\"*50)\n",
    "print(f\"\\nMonthly Revenue Summary for {TARGET_YEAR}:\")\n",
    "print(monthly_trends[['month', 'revenue', 'orders', 'avg_order_value']].round(2))\n",
    "\n",
    "print(f\"\\nAverage Monthly Growth Rates:\")\n",
    "print(f\"Revenue Growth: {monthly_trends['revenue_growth'].mean():.2f}%\")\n",
    "print(f\"Order Growth: {monthly_trends['order_growth'].mean():.2f}%\")\n",
    "print(f\"AOV Growth: {monthly_trends['aov_growth'].mean():.2f}%\")"
   ]
  },
  {
   "cell_type": "code",
   "execution_count": 30,
   "metadata": {},
   "outputs": [
    {
     "data": {
      "image/png": "[encoded data removed]",
      "text/plain": [
       "<Figure size 1500x1000 with 4 Axes>"
      ]
     },
     "metadata": {},
     "output_type": "display_data"
    }
   ],
   "source": [
    "# Create monthly trends visualization\n",
    "trends_fig = visualizer.plot_monthly_trends(monthly_trends, TARGET_YEAR)\n",
    "plt.show()\n",
    "plt.close()"
   ]
  },
  {
   "cell_type": "markdown",
   "metadata": {},
   "source": [
    "## 5. Product Performance Analysis {#product-analysis}\n",
    "\n",
    "Analysis of product categories and individual product performance to identify top revenue drivers."
   ]
  },
  {
   "cell_type": "code",
   "execution_count": 31,
   "metadata": {},
   "outputs": [
    {
     "name": "stdout",
     "output_type": "stream",
     "text": [
      "PRODUCT CATEGORY PERFORMANCE\n",
      "==================================================\n",
      "\n",
      "Top Product Categories by Revenue (2023):\n",
      "    product_category_name  total_revenue  avg_price  items_sold  unique_orders\n",
      "0             electronics     1401359.21    1056.04        1327           1227\n",
      "1             home_garden      862653.27     750.79        1149           1045\n",
      "2         sports_outdoors      278845.32     406.48         686            645\n",
      "3              automotive      247707.10     506.56         489            473\n",
      "4  clothing_shoes_jewelry      232745.04     263.29         884            828\n",
      "5              toys_games       70163.64     147.40         476            461\n",
      "6    health_personal_care       65370.27     103.76         630            613\n",
      "7  tools_home_improvement       54280.33     247.86         219            213\n",
      "8    beauty_personal_care       49213.30     156.23         315            309\n",
      "9             books_media       38559.08      53.18         725            687\n",
      "\n",
      "Category Performance Summary:\n",
      "Total Categories: 13\n",
      "Top Category Revenue: $1,401,359.21\n",
      "Top Category: electronics\n"
     ]
    }
   ],
   "source": [
    "# Analyze product performance\n",
    "product_analysis = metrics.analyze_product_performance(\n",
    "    target_data, datasets['products'], top_n=13\n",
    ")\n",
    "\n",
    "category_performance = product_analysis['category_performance']\n",
    "product_performance = product_analysis['product_performance']\n",
    "\n",
    "print(\"PRODUCT CATEGORY PERFORMANCE\")\n",
    "print(\"=\"*50)\n",
    "print(f\"\\nTop Product Categories by Revenue ({TARGET_YEAR}):\")\n",
    "print(category_performance.head(10))\n",
    "\n",
    "print(f\"\\nCategory Performance Summary:\")\n",
    "print(f\"Total Categories: {len(category_performance)}\")\n",
    "print(f\"Top Category Revenue: ${category_performance.iloc[0]['total_revenue']:,.2f}\")\n",
    "print(f\"Top Category: {category_performance.iloc[0]['product_category_name']}\")"
   ]
  },
  {
   "cell_type": "code",
   "execution_count": 32,
   "metadata": {},
   "outputs": [
    {
     "data": {
      "image/png": "[encoded data removed]",
      "text/plain": [
       "<Figure size 1500x600 with 2 Axes>"
      ]
     },
     "metadata": {},
     "output_type": "display_data"
    }
   ],
   "source": [
    "# Create product category performance visualization\n",
    "category_fig = visualizer.plot_category_performance(\n",
    "    category_performance, f\"({TARGET_YEAR})\"\n",
    ")\n",
    "plt.show()\n",
    "plt.close()"
   ]
  },
  {
   "cell_type": "code",
   "execution_count": 33,
   "metadata": {},
   "outputs": [
    {
     "data": {
      "application/vnd.plotly.v1+json": {
       "config": {
        "plotlyServerURL": "https://plot.ly"
       },
       "data": [
        {
         "hovertemplate": "Total Revenue ($)=%{x}<br>Product Category=%{y}<br>color=%{marker.color}<extra></extra>",
         "legendgroup": "",
         "marker": {
          "color": {
           "bdata": "XI/CNQ9iNUGkcD2KelMqQXsUrkf1BBFBzczMzNg8DkEfhetRSGkMQdejcD06IfFAPQrXo0jr70D2KFyPCoHqQJqZmZmpB+hA9ihcj+LT4kCkcD0KF1XaQPYoXI+itdhA4XoUrkfbu0A=",
           "dtype": "f8"
          },
          "coloraxis": "coloraxis",
          "pattern": {
           "shape": ""
          }
         },
         "name": "",
         "orientation": "h",
         "showlegend": false,
         "textposition": "auto",
         "type": "bar",
         "x": {
          "bdata": "XI/CNQ9iNUGkcD2KelMqQXsUrkf1BBFBzczMzNg8DkEfhetRSGkMQdejcD06IfFAPQrXo0jr70D2KFyPCoHqQJqZmZmpB+hA9ihcj+LT4kCkcD0KF1XaQPYoXI+itdhA4XoUrkfbu0A=",
          "dtype": "f8"
         },
         "xaxis": "x",
         "y": [
          "Electronics",
          "Home Garden",
          "Sports Outdoors",
          "Automotive",
          "Clothing Shoes Jewelry",
          "Toys Games",
          "Health Personal Care",
          "Tools Home Improvement",
          "Beauty Personal Care",
          "Books Media",
          "Grocery Gourmet Food",
          "Baby Products",
          "Pet Supplies"
         ],
         "yaxis": "y"
        }
       ],
       "layout": {
        "barmode": "relative",
        "coloraxis": {
         "colorbar": {
          "title": {
           "text": "color"
          }
         },
         "colorscale": [
          [
           0,
           "rgb(247,251,255)"
          ],
          [
           0.125,
           "rgb(222,235,247)"
          ],
          [
           0.25,
           "rgb(198,219,239)"
          ],
          [
           0.375,
           "rgb(158,202,225)"
          ],
          [
           0.5,
           "rgb(107,174,214)"
          ],
          [
           0.625,
           "rgb(66,146,198)"
          ],
          [
           0.75,
           "rgb(33,113,181)"
          ],
          [
           0.875,
           "rgb(8,81,156)"
          ],
          [
           1,
           "rgb(8,48,107)"
          ]
         ]
        },
        "height": 600,
        "legend": {
         "tracegroupgap": 0
        },
        "template": {
         "data": {
          "bar": [
           {
            "error_x": {
             "color": "#2a3f5f"
            },
            "error_y": {
             "color": "#2a3f5f"
            },
            "marker": {
             "line": {
              "color": "#E5ECF6",
              "width": 0.5
             },
             "pattern": {
              "fillmode": "overlay",
              "size": 10,
              "solidity": 0.2
             }
            },
            "type": "bar"
           }
          ],
          "barpolar": [
           {
            "marker": {
             "line": {
              "color": "#E5ECF6",
              "width": 0.5
             },
             "pattern": {
              "fillmode": "overlay",
              "size": 10,
              "solidity": 0.2
             }
            },
            "type": "barpolar"
           }
          ],
          "carpet": [
           {
            "aaxis": {
             "endlinecolor": "#2a3f5f",
             "gridcolor": "white",
             "linecolor": "white",
             "minorgridcolor": "white",
             "startlinecolor": "#2a3f5f"
            },
            "baxis": {
             "endlinecolor": "#2a3f5f",
             "gridcolor": "white",
             "linecolor": "white",
             "minorgridcolor": "white",
             "startlinecolor": "#2a3f5f"
            },
            "type": "carpet"
           }
          ],
          "choropleth": [
           {
            "colorbar": {
             "outlinewidth": 0,
             "ticks": ""
            },
            "type": "choropleth"
           }
          ],
          "contour": [
           {
            "colorbar": {
             "outlinewidth": 0,
             "ticks": ""
            },
            "colorscale": [
             [
              0,
              "#0d0887"
             ],
             [
              0.1111111111111111,
              "#46039f"
             ],
             [
              0.2222222222222222,
              "#7201a8"
             ],
             [
              0.3333333333333333,
              "#9c179e"
             ],
             [
              0.4444444444444444,
              "#bd3786"
             ],
             [
              0.5555555555555556,
              "#d8576b"
             ],
             [
              0.6666666666666666,
              "#ed7953"
             ],
             [
              0.7777777777777778,
              "#fb9f3a"
             ],
             [
              0.8888888888888888,
              "#fdca26"
             ],
             [
              1,
              "#f0f921"
             ]
            ],
            "type": "contour"
           }
          ],
          "contourcarpet": [
           {
            "colorbar": {
             "outlinewidth": 0,
             "ticks": ""
            },
            "type": "contourcarpet"
           }
          ],
          "heatmap": [
           {
            "colorbar": {
             "outlinewidth": 0,
             "ticks": ""
            },
            "colorscale": [
             [
              0,
              "#0d0887"
             ],
             [
              0.1111111111111111,
              "#46039f"
             ],
             [
              0.2222222222222222,
              "#7201a8"
             ],
             [
              0.3333333333333333,
              "#9c179e"
             ],
             [
              0.4444444444444444,
              "#bd3786"
             ],
             [
              0.5555555555555556,
              "#d8576b"
             ],
             [
              0.6666666666666666,
              "#ed7953"
             ],
             [
              0.7777777777777778,
              "#fb9f3a"
             ],
             [
              0.8888888888888888,
              "#fdca26"
             ],
             [
              1,
              "#f0f921"
             ]
            ],
            "type": "heatmap"
           }
          ],
          "histogram": [
           {
            "marker": {
             "pattern": {
              "fillmode": "overlay",
              "size": 10,
              "solidity": 0.2
             }
            },
            "type": "histogram"
           }
          ],
          "histogram2d": [
           {
            "colorbar": {
             "outlinewidth": 0,
             "ticks": ""
            },
            "colorscale": [
             [
              0,
              "#0d0887"
             ],
             [
              0.1111111111111111,
              "#46039f"
             ],
             [
              0.2222222222222222,
              "#7201a8"
             ],
             [
              0.3333333333333333,
              "#9c179e"
             ],
             [
              0.4444444444444444,
              "#bd3786"
             ],
             [
              0.5555555555555556,
              "#d8576b"
             ],
             [
              0.6666666666666666,
              "#ed7953"
             ],
             [
              0.7777777777777778,
              "#fb9f3a"
             ],
             [
              0.8888888888888888,
              "#fdca26"
             ],
             [
              1,
              "#f0f921"
             ]
            ],
            "type": "histogram2d"
           }
          ],
          "histogram2dcontour": [
           {
            "colorbar": {
             "outlinewidth": 0,
             "ticks": ""
            },
            "colorscale": [
             [
              0,
              "#0d0887"
             ],
             [
              0.1111111111111111,
              "#46039f"
             ],
             [
              0.2222222222222222,
              "#7201a8"
             ],
             [
              0.3333333333333333,
              "#9c179e"
             ],
             [
              0.4444444444444444,
              "#bd3786"
             ],
             [
              0.5555555555555556,
              "#d8576b"
             ],
             [
              0.6666666666666666,
              "#ed7953"
             ],
             [
              0.7777777777777778,
              "#fb9f3a"
             ],
             [
              0.8888888888888888,
              "#fdca26"
             ],
             [
              1,
              "#f0f921"
             ]
            ],
            "type": "histogram2dcontour"
           }
          ],
          "mesh3d": [
           {
            "colorbar": {
             "outlinewidth": 0,
             "ticks": ""
            },
            "type": "mesh3d"
           }
          ],
          "parcoords": [
           {
            "line": {
             "colorbar": {
              "outlinewidth": 0,
              "ticks": ""
             }
            },
            "type": "parcoords"
           }
          ],
          "pie": [
           {
            "automargin": true,
            "type": "pie"
           }
          ],
          "scatter": [
           {
            "fillpattern": {
             "fillmode": "overlay",
             "size": 10,
             "solidity": 0.2
            },
            "type": "scatter"
           }
          ],
          "scatter3d": [
           {
            "line": {
             "colorbar": {
              "outlinewidth": 0,
              "ticks": ""
             }
            },
            "marker": {
             "colorbar": {
              "outlinewidth": 0,
              "ticks": ""
             }
            },
            "type": "scatter3d"
           }
          ],
          "scattercarpet": [
           {
            "marker": {
             "colorbar": {
              "outlinewidth": 0,
              "ticks": ""
             }
            },
            "type": "scattercarpet"
           }
          ],
          "scattergeo": [
           {
            "marker": {
             "colorbar": {
              "outlinewidth": 0,
              "ticks": ""
             }
            },
            "type": "scattergeo"
           }
          ],
          "scattergl": [
           {
            "marker": {
             "colorbar": {
              "outlinewidth": 0,
              "ticks": ""
             }
            },
            "type": "scattergl"
           }
          ],
          "scattermap": [
           {
            "marker": {
             "colorbar": {
              "outlinewidth": 0,
              "ticks": ""
             }
            },
            "type": "scattermap"
           }
          ],
          "scattermapbox": [
           {
            "marker": {
             "colorbar": {
              "outlinewidth": 0,
              "ticks": ""
             }
            },
            "type": "scattermapbox"
           }
          ],
          "scatterpolar": [
           {
            "marker": {
             "colorbar": {
              "outlinewidth": 0,
              "ticks": ""
             }
            },
            "type": "scatterpolar"
           }
          ],
          "scatterpolargl": [
           {
            "marker": {
             "colorbar": {
              "outlinewidth": 0,
              "ticks": ""
             }
            },
            "type": "scatterpolargl"
           }
          ],
          "scatterternary": [
           {
            "marker": {
             "colorbar": {
              "outlinewidth": 0,
              "ticks": ""
             }
            },
            "type": "scatterternary"
           }
          ],
          "surface": [
           {
            "colorbar": {
             "outlinewidth": 0,
             "ticks": ""
            },
            "colorscale": [
             [
              0,
              "#0d0887"
             ],
             [
              0.1111111111111111,
              "#46039f"
             ],
             [
              0.2222222222222222,
              "#7201a8"
             ],
             [
              0.3333333333333333,
              "#9c179e"
             ],
             [
              0.4444444444444444,
              "#bd3786"
             ],
             [
              0.5555555555555556,
              "#d8576b"
             ],
             [
              0.6666666666666666,
              "#ed7953"
             ],
             [
              0.7777777777777778,
              "#fb9f3a"
             ],
             [
              0.8888888888888888,
              "#fdca26"
             ],
             [
              1,
              "#f0f921"
             ]
            ],
            "type": "surface"
           }
          ],
          "table": [
           {
            "cells": {
             "fill": {
              "color": "#EBF0F8"
             },
             "line": {
              "color": "white"
             }
            },
            "header": {
             "fill": {
              "color": "#C8D4E3"
             },
             "line": {
              "color": "white"
             }
            },
            "type": "table"
           }
          ]
         },
         "layout": {
          "annotationdefaults": {
           "arrowcolor": "#2a3f5f",
           "arrowhead": 0,
           "arrowwidth": 1
          },
          "autotypenumbers": "strict",
          "coloraxis": {
           "colorbar": {
            "outlinewidth": 0,
            "ticks": ""
           }
          },
          "colorscale": {
           "diverging": [
            [
             0,
             "#8e0152"
            ],
            [
             0.1,
             "#c51b7d"
            ],
            [
             0.2,
             "#de77ae"
            ],
            [
             0.3,
             "#f1b6da"
            ],
            [
             0.4,
             "#fde0ef"
            ],
            [
             0.5,
             "#f7f7f7"
            ],
            [
             0.6,
             "#e6f5d0"
            ],
            [
             0.7,
             "#b8e186"
            ],
            [
             0.8,
             "#7fbc41"
            ],
            [
             0.9,
             "#4d9221"
            ],
            [
             1,
             "#276419"
            ]
           ],
           "sequential": [
            [
             0,
             "#0d0887"
            ],
            [
             0.1111111111111111,
             "#46039f"
            ],
            [
             0.2222222222222222,
             "#7201a8"
            ],
            [
             0.3333333333333333,
             "#9c179e"
            ],
            [
             0.4444444444444444,
             "#bd3786"
            ],
            [
             0.5555555555555556,
             "#d8576b"
            ],
            [
             0.6666666666666666,
             "#ed7953"
            ],
            [
             0.7777777777777778,
             "#fb9f3a"
            ],
            [
             0.8888888888888888,
             "#fdca26"
            ],
            [
             1,
             "#f0f921"
            ]
           ],
           "sequentialminus": [
            [
             0,
             "#0d0887"
            ],
            [
             0.1111111111111111,
             "#46039f"
            ],
            [
             0.2222222222222222,
             "#7201a8"
            ],
            [
             0.3333333333333333,
             "#9c179e"
            ],
            [
             0.4444444444444444,
             "#bd3786"
            ],
            [
             0.5555555555555556,
             "#d8576b"
            ],
            [
             0.6666666666666666,
             "#ed7953"
            ],
            [
             0.7777777777777778,
             "#fb9f3a"
            ],
            [
             0.8888888888888888,
             "#fdca26"
            ],
            [
             1,
             "#f0f921"
            ]
           ]
          },
          "colorway": [
           "#636efa",
           "#EF553B",
           "#00cc96",
           "#ab63fa",
           "#FFA15A",
           "#19d3f3",
           "#FF6692",
           "#B6E880",
           "#FF97FF",
           "#FECB52"
          ],
          "font": {
           "color": "#2a3f5f"
          },
          "geo": {
           "bgcolor": "white",
           "lakecolor": "white",
           "landcolor": "#E5ECF6",
           "showlakes": true,
           "showland": true,
           "subunitcolor": "white"
          },
          "hoverlabel": {
           "align": "left"
          },
          "hovermode": "closest",
          "mapbox": {
           "style": "light"
          },
          "paper_bgcolor": "white",
          "plot_bgcolor": "#E5ECF6",
          "polar": {
           "angularaxis": {
            "gridcolor": "white",
            "linecolor": "white",
            "ticks": ""
           },
           "bgcolor": "#E5ECF6",
           "radialaxis": {
            "gridcolor": "white",
            "linecolor": "white",
            "ticks": ""
           }
          },
          "scene": {
           "xaxis": {
            "backgroundcolor": "#E5ECF6",
            "gridcolor": "white",
            "gridwidth": 2,
            "linecolor": "white",
            "showbackground": true,
            "ticks": "",
            "zerolinecolor": "white"
           },
           "yaxis": {
            "backgroundcolor": "#E5ECF6",
            "gridcolor": "white",
            "gridwidth": 2,
            "linecolor": "white",
            "showbackground": true,
            "ticks": "",
            "zerolinecolor": "white"
           },
           "zaxis": {
            "backgroundcolor": "#E5ECF6",
            "gridcolor": "white",
            "gridwidth": 2,
            "linecolor": "white",
            "showbackground": true,
            "ticks": "",
            "zerolinecolor": "white"
           }
          },
          "shapedefaults": {
           "line": {
            "color": "#2a3f5f"
           }
          },
          "ternary": {
           "aaxis": {
            "gridcolor": "white",
            "linecolor": "white",
            "ticks": ""
           },
           "baxis": {
            "gridcolor": "white",
            "linecolor": "white",
            "ticks": ""
           },
           "bgcolor": "#E5ECF6",
           "caxis": {
            "gridcolor": "white",
            "linecolor": "white",
            "ticks": ""
           }
          },
          "title": {
           "x": 0.05
          },
          "xaxis": {
           "automargin": true,
           "gridcolor": "white",
           "linecolor": "white",
           "ticks": "",
           "title": {
            "standoff": 15
           },
           "zerolinecolor": "white",
           "zerolinewidth": 2
          },
          "yaxis": {
           "automargin": true,
           "gridcolor": "white",
           "linecolor": "white",
           "ticks": "",
           "title": {
            "standoff": 15
           },
           "zerolinecolor": "white",
           "zerolinewidth": 2
          }
         }
        },
        "title": {
         "font": {
          "size": 16
         },
         "text": "Product Category Revenue Performance (2023)",
         "x": 0.5
        },
        "xaxis": {
         "anchor": "y",
         "domain": [
          0,
          1
         ],
         "title": {
          "text": "Total Revenue ($)"
         }
        },
        "yaxis": {
         "anchor": "x",
         "domain": [
          0,
          1
         ],
         "title": {
          "text": "Product Category"
         }
        }
       }
      }
     },
     "metadata": {},
     "output_type": "display_data"
    }
   ],
   "source": [
    "# Create interactive category performance chart\n",
    "categories_clean = category_performance['product_category_name'].str.replace('_', ' ').str.title()\n",
    "\n",
    "fig = px.bar(\n",
    "    x=category_performance['total_revenue'],\n",
    "    y=categories_clean,\n",
    "    orientation='h',\n",
    "    title=f'Product Category Revenue Performance ({TARGET_YEAR})',\n",
    "    labels={'x': 'Total Revenue ($)', 'y': 'Product Category'},\n",
    "    color=category_performance['total_revenue'],\n",
    "    color_continuous_scale='Blues'\n",
    ")\n",
    "\n",
    "fig.update_layout(\n",
    "    height=600,\n",
    "    title_font_size=16,\n",
    "    title_x=0.5\n",
    ")\n",
    "\n",
    "fig.show()"
   ]
  },
  {
   "cell_type": "markdown",
   "metadata": {},
   "source": [
    "## 6. Geographic Performance Analysis {#geographic-analysis}\n",
    "\n",
    "Analysis of sales performance across different states to identify regional opportunities and trends."
   ]
  },
  {
   "cell_type": "code",
   "execution_count": 34,
   "metadata": {},
   "outputs": [
    {
     "name": "stdout",
     "output_type": "stream",
     "text": [
      "GEOGRAPHIC PERFORMANCE ANALYSIS\n",
      "==================================================\n",
      "\n",
      "Top 15 States by Revenue (2023):\n",
      "   customer_state  total_revenue  avg_order_value  total_orders  unique_customers\n",
      "0              CA      537880.74           438.73          1226               582\n",
      "1              TX      403303.49           464.10           869               438\n",
      "2              FL      310195.84           438.75           707               332\n",
      "3              NY      253111.85           400.49           632               286\n",
      "4              IL      185930.89           460.22           404               190\n",
      "5              PA      173260.68           493.62           351               172\n",
      "6              OH      157619.72           464.95           339               151\n",
      "7              GA      146414.65           478.48           306               145\n",
      "8              MI      132325.60           405.91           326               164\n",
      "9              NC      128314.74           444.00           289               135\n",
      "10             NJ      127437.56           477.29           267               120\n",
      "11             VA      105240.99           444.05           237               106\n",
      "12             MA      103111.13           470.83           219               107\n",
      "13             AZ      100109.15           478.99           209               101\n",
      "14             WA       95130.67           444.54           214               106\n",
      "\n",
      "Geographic Summary:\n",
      "Total States: 20\n",
      "Top State: CA\n",
      "Top State Revenue: $537,880.74\n",
      "Top State AOV: $438.73\n"
     ]
    }
   ],
   "source": [
    "# Analyze geographic performance\n",
    "geo_performance = metrics.analyze_geographic_performance(\n",
    "    target_data, datasets['orders'], datasets['customers']\n",
    ")\n",
    "\n",
    "print(\"GEOGRAPHIC PERFORMANCE ANALYSIS\")\n",
    "print(\"=\"*50)\n",
    "print(f\"\\nTop 15 States by Revenue ({TARGET_YEAR}):\")\n",
    "print(geo_performance.head(15))\n",
    "\n",
    "print(f\"\\nGeographic Summary:\")\n",
    "print(f\"Total States: {len(geo_performance)}\")\n",
    "print(f\"Top State: {geo_performance.iloc[0]['customer_state']}\")\n",
    "print(f\"Top State Revenue: ${geo_performance.iloc[0]['total_revenue']:,.2f}\")\n",
    "print(f\"Top State AOV: ${geo_performance.iloc[0]['avg_order_value']:.2f}\")"
   ]
  },
  {
   "cell_type": "code",
   "execution_count": 35,
   "metadata": {},
   "outputs": [
    {
     "data": {
      "application/vnd.plotly.v1+json": {
       "config": {
        "plotlyServerURL": "https://plot.ly"
       },
       "data": [
        {
         "coloraxis": "coloraxis",
         "geo": "geo",
         "hovertemplate": "customer_state=%{location}<br>Total Revenue ($)=%{z}<extra></extra>",
         "locationmode": "USA-states",
         "locations": [
          "CA",
          "TX",
          "FL",
          "NY",
          "IL",
          "PA",
          "OH",
          "GA",
          "MI",
          "NC",
          "NJ",
          "VA",
          "MA",
          "AZ",
          "WA",
          "MD",
          "IN",
          "MO",
          "WI",
          "TN"
         ],
         "name": "",
         "type": "choropleth",
         "z": {
          "bdata": "rkfhejFqIEFcj8L1nZ0YQcP1KFzP7hJBzczMzL7lDkHsUbgeV7IGQQrXo3BlJgVBKVyPwp09A0EzMzMzdd8BQc3MzMwsJwBBcT0K16tT/0Bcj8L12Bz/QHE9CtePsflASOF6FHIs+UBmZmZm0nD4QIXrUbiqOfdAFK5H4TYp9UAUrkfh2hD1QDMzMzOzr/JA9ihcjx6E8kDsUbgezXLyQA==",
          "dtype": "f8"
         }
        }
       ],
       "layout": {
        "coloraxis": {
         "colorbar": {
          "title": {
           "text": "Total Revenue ($)"
          }
         },
         "colorscale": [
          [
           0,
           "rgb(247,251,255)"
          ],
          [
           0.125,
           "rgb(222,235,247)"
          ],
          [
           0.25,
           "rgb(198,219,239)"
          ],
          [
           0.375,
           "rgb(158,202,225)"
          ],
          [
           0.5,
           "rgb(107,174,214)"
          ],
          [
           0.625,
           "rgb(66,146,198)"
          ],
          [
           0.75,
           "rgb(33,113,181)"
          ],
          [
           0.875,
           "rgb(8,81,156)"
          ],
          [
           1,
           "rgb(8,48,107)"
          ]
         ]
        },
        "geo": {
         "bgcolor": "rgba(0,0,0,0)",
         "center": {},
         "domain": {
          "x": [
           0,
           1
          ],
          "y": [
           0,
           1
          ]
         },
         "scope": "usa"
        },
        "legend": {
         "tracegroupgap": 0
        },
        "template": {
         "data": {
          "bar": [
           {
            "error_x": {
             "color": "#2a3f5f"
            },
            "error_y": {
             "color": "#2a3f5f"
            },
            "marker": {
             "line": {
              "color": "#E5ECF6",
              "width": 0.5
             },
             "pattern": {
              "fillmode": "overlay",
              "size": 10,
              "solidity": 0.2
             }
            },
            "type": "bar"
           }
          ],
          "barpolar": [
           {
            "marker": {
             "line": {
              "color": "#E5ECF6",
              "width": 0.5
             },
             "pattern": {
              "fillmode": "overlay",
              "size": 10,
              "solidity": 0.2
             }
            },
            "type": "barpolar"
           }
          ],
          "carpet": [
           {
            "aaxis": {
             "endlinecolor": "#2a3f5f",
             "gridcolor": "white",
             "linecolor": "white",
             "minorgridcolor": "white",
             "startlinecolor": "#2a3f5f"
            },
            "baxis": {
             "endlinecolor": "#2a3f5f",
             "gridcolor": "white",
             "linecolor": "white",
             "minorgridcolor": "white",
             "startlinecolor": "#2a3f5f"
            },
            "type": "carpet"
           }
          ],
          "choropleth": [
           {
            "colorbar": {
             "outlinewidth": 0,
             "ticks": ""
            },
            "type": "choropleth"
           }
          ],
          "contour": [
           {
            "colorbar": {
             "outlinewidth": 0,
             "ticks": ""
            },
            "colorscale": [
             [
              0,
              "#0d0887"
             ],
             [
              0.1111111111111111,
              "#46039f"
             ],
             [
              0.2222222222222222,
              "#7201a8"
             ],
             [
              0.3333333333333333,
              "#9c179e"
             ],
             [
              0.4444444444444444,
              "#bd3786"
             ],
             [
              0.5555555555555556,
              "#d8576b"
             ],
             [
              0.6666666666666666,
              "#ed7953"
             ],
             [
              0.7777777777777778,
              "#fb9f3a"
             ],
             [
              0.8888888888888888,
              "#fdca26"
             ],
             [
              1,
              "#f0f921"
             ]
            ],
            "type": "contour"
           }
          ],
          "contourcarpet": [
           {
            "colorbar": {
             "outlinewidth": 0,
             "ticks": ""
            },
            "type": "contourcarpet"
           }
          ],
          "heatmap": [
           {
            "colorbar": {
             "outlinewidth": 0,
             "ticks": ""
            },
            "colorscale": [
             [
              0,
              "#0d0887"
             ],
             [
              0.1111111111111111,
              "#46039f"
             ],
             [
              0.2222222222222222,
              "#7201a8"
             ],
             [
              0.3333333333333333,
              "#9c179e"
             ],
             [
              0.4444444444444444,
              "#bd3786"
             ],
             [
              0.5555555555555556,
              "#d8576b"
             ],
             [
              0.6666666666666666,
              "#ed7953"
             ],
             [
              0.7777777777777778,
              "#fb9f3a"
             ],
             [
              0.8888888888888888,
              "#fdca26"
             ],
             [
              1,
              "#f0f921"
             ]
            ],
            "type": "heatmap"
           }
          ],
          "histogram": [
           {
            "marker": {
             "pattern": {
              "fillmode": "overlay",
              "size": 10,
              "solidity": 0.2
             }
            },
            "type": "histogram"
           }
          ],
          "histogram2d": [
           {
            "colorbar": {
             "outlinewidth": 0,
             "ticks": ""
            },
            "colorscale": [
             [
              0,
              "#0d0887"
             ],
             [
              0.1111111111111111,
              "#46039f"
             ],
             [
              0.2222222222222222,
              "#7201a8"
             ],
             [
              0.3333333333333333,
              "#9c179e"
             ],
             [
              0.4444444444444444,
              "#bd3786"
             ],
             [
              0.5555555555555556,
              "#d8576b"
             ],
             [
              0.6666666666666666,
              "#ed7953"
             ],
             [
              0.7777777777777778,
              "#fb9f3a"
             ],
             [
              0.8888888888888888,
              "#fdca26"
             ],
             [
              1,
              "#f0f921"
             ]
            ],
            "type": "histogram2d"
           }
          ],
          "histogram2dcontour": [
           {
            "colorbar": {
             "outlinewidth": 0,
             "ticks": ""
            },
            "colorscale": [
             [
              0,
              "#0d0887"
             ],
             [
              0.1111111111111111,
              "#46039f"
             ],
             [
              0.2222222222222222,
              "#7201a8"
             ],
             [
              0.3333333333333333,
              "#9c179e"
             ],
             [
              0.4444444444444444,
              "#bd3786"
             ],
             [
              0.5555555555555556,
              "#d8576b"
             ],
             [
              0.6666666666666666,
              "#ed7953"
             ],
             [
              0.7777777777777778,
              "#fb9f3a"
             ],
             [
              0.8888888888888888,
              "#fdca26"
             ],
             [
              1,
              "#f0f921"
             ]
            ],
            "type": "histogram2dcontour"
           }
          ],
          "mesh3d": [
           {
            "colorbar": {
             "outlinewidth": 0,
             "ticks": ""
            },
            "type": "mesh3d"
           }
          ],
          "parcoords": [
           {
            "line": {
             "colorbar": {
              "outlinewidth": 0,
              "ticks": ""
             }
            },
            "type": "parcoords"
           }
          ],
          "pie": [
           {
            "automargin": true,
            "type": "pie"
           }
          ],
          "scatter": [
           {
            "fillpattern": {
             "fillmode": "overlay",
             "size": 10,
             "solidity": 0.2
            },
            "type": "scatter"
           }
          ],
          "scatter3d": [
           {
            "line": {
             "colorbar": {
              "outlinewidth": 0,
              "ticks": ""
             }
            },
            "marker": {
             "colorbar": {
              "outlinewidth": 0,
              "ticks": ""
             }
            },
            "type": "scatter3d"
           }
          ],
          "scattercarpet": [
           {
            "marker": {
             "colorbar": {
              "outlinewidth": 0,
              "ticks": ""
             }
            },
            "type": "scattercarpet"
           }
          ],
          "scattergeo": [
           {
            "marker": {
             "colorbar": {
              "outlinewidth": 0,
              "ticks": ""
             }
            },
            "type": "scattergeo"
           }
          ],
          "scattergl": [
           {
            "marker": {
             "colorbar": {
              "outlinewidth": 0,
              "ticks": ""
             }
            },
            "type": "scattergl"
           }
          ],
          "scattermap": [
           {
            "marker": {
             "colorbar": {
              "outlinewidth": 0,
              "ticks": ""
             }
            },
            "type": "scattermap"
           }
          ],
          "scattermapbox": [
           {
            "marker": {
             "colorbar": {
              "outlinewidth": 0,
              "ticks": ""
             }
            },
            "type": "scattermapbox"
           }
          ],
          "scatterpolar": [
           {
            "marker": {
             "colorbar": {
              "outlinewidth": 0,
              "ticks": ""
             }
            },
            "type": "scatterpolar"
           }
          ],
          "scatterpolargl": [
           {
            "marker": {
             "colorbar": {
              "outlinewidth": 0,
              "ticks": ""
             }
            },
            "type": "scatterpolargl"
           }
          ],
          "scatterternary": [
           {
            "marker": {
             "colorbar": {
              "outlinewidth": 0,
              "ticks": ""
             }
            },
            "type": "scatterternary"
           }
          ],
          "surface": [
           {
            "colorbar": {
             "outlinewidth": 0,
             "ticks": ""
            },
            "colorscale": [
             [
              0,
              "#0d0887"
             ],
             [
              0.1111111111111111,
              "#46039f"
             ],
             [
              0.2222222222222222,
              "#7201a8"
             ],
             [
              0.3333333333333333,
              "#9c179e"
             ],
             [
              0.4444444444444444,
              "#bd3786"
             ],
             [
              0.5555555555555556,
              "#d8576b"
             ],
             [
              0.6666666666666666,
              "#ed7953"
             ],
             [
              0.7777777777777778,
              "#fb9f3a"
             ],
             [
              0.8888888888888888,
              "#fdca26"
             ],
             [
              1,
              "#f0f921"
             ]
            ],
            "type": "surface"
           }
          ],
          "table": [
           {
            "cells": {
             "fill": {
              "color": "#EBF0F8"
             },
             "line": {
              "color": "white"
             }
            },
            "header": {
             "fill": {
              "color": "#C8D4E3"
             },
             "line": {
              "color": "white"
             }
            },
            "type": "table"
           }
          ]
         },
         "layout": {
          "annotationdefaults": {
           "arrowcolor": "#2a3f5f",
           "arrowhead": 0,
           "arrowwidth": 1
          },
          "autotypenumbers": "strict",
          "coloraxis": {
           "colorbar": {
            "outlinewidth": 0,
            "ticks": ""
           }
          },
          "colorscale": {
           "diverging": [
            [
             0,
             "#8e0152"
            ],
            [
             0.1,
             "#c51b7d"
            ],
            [
             0.2,
             "#de77ae"
            ],
            [
             0.3,
             "#f1b6da"
            ],
            [
             0.4,
             "#fde0ef"
            ],
            [
             0.5,
             "#f7f7f7"
            ],
            [
             0.6,
             "#e6f5d0"
            ],
            [
             0.7,
             "#b8e186"
            ],
            [
             0.8,
             "#7fbc41"
            ],
            [
             0.9,
             "#4d9221"
            ],
            [
             1,
             "#276419"
            ]
           ],
           "sequential": [
            [
             0,
             "#0d0887"
            ],
            [
             0.1111111111111111,
             "#46039f"
            ],
            [
             0.2222222222222222,
             "#7201a8"
            ],
            [
             0.3333333333333333,
             "#9c179e"
            ],
            [
             0.4444444444444444,
             "#bd3786"
            ],
            [
             0.5555555555555556,
             "#d8576b"
            ],
            [
             0.6666666666666666,
             "#ed7953"
            ],
            [
             0.7777777777777778,
             "#fb9f3a"
            ],
            [
             0.8888888888888888,
             "#fdca26"
            ],
            [
             1,
             "#f0f921"
            ]
           ],
           "sequentialminus": [
            [
             0,
             "#0d0887"
            ],
            [
             0.1111111111111111,
             "#46039f"
            ],
            [
             0.2222222222222222,
             "#7201a8"
            ],
            [
             0.3333333333333333,
             "#9c179e"
            ],
            [
             0.4444444444444444,
             "#bd3786"
            ],
            [
             0.5555555555555556,
             "#d8576b"
            ],
            [
             0.6666666666666666,
             "#ed7953"
            ],
            [
             0.7777777777777778,
             "#fb9f3a"
            ],
            [
             0.8888888888888888,
             "#fdca26"
            ],
            [
             1,
             "#f0f921"
            ]
           ]
          },
          "colorway": [
           "#636efa",
           "#EF553B",
           "#00cc96",
           "#ab63fa",
           "#FFA15A",
           "#19d3f3",
           "#FF6692",
           "#B6E880",
           "#FF97FF",
           "#FECB52"
          ],
          "font": {
           "color": "#2a3f5f"
          },
          "geo": {
           "bgcolor": "white",
           "lakecolor": "white",
           "landcolor": "#E5ECF6",
           "showlakes": true,
           "showland": true,
           "subunitcolor": "white"
          },
          "hoverlabel": {
           "align": "left"
          },
          "hovermode": "closest",
          "mapbox": {
           "style": "light"
          },
          "paper_bgcolor": "white",
          "plot_bgcolor": "#E5ECF6",
          "polar": {
           "angularaxis": {
            "gridcolor": "white",
            "linecolor": "white",
            "ticks": ""
           },
           "bgcolor": "#E5ECF6",
           "radialaxis": {
            "gridcolor": "white",
            "linecolor": "white",
            "ticks": ""
           }
          },
          "scene": {
           "xaxis": {
            "backgroundcolor": "#E5ECF6",
            "gridcolor": "white",
            "gridwidth": 2,
            "linecolor": "white",
            "showbackground": true,
            "ticks": "",
            "zerolinecolor": "white"
           },
           "yaxis": {
            "backgroundcolor": "#E5ECF6",
            "gridcolor": "white",
            "gridwidth": 2,
            "linecolor": "white",
            "showbackground": true,
            "ticks": "",
            "zerolinecolor": "white"
           },
           "zaxis": {
            "backgroundcolor": "#E5ECF6",
            "gridcolor": "white",
            "gridwidth": 2,
            "linecolor": "white",
            "showbackground": true,
            "ticks": "",
            "zerolinecolor": "white"
           }
          },
          "shapedefaults": {
           "line": {
            "color": "#2a3f5f"
           }
          },
          "ternary": {
           "aaxis": {
            "gridcolor": "white",
            "linecolor": "white",
            "ticks": ""
           },
           "baxis": {
            "gridcolor": "white",
            "linecolor": "white",
            "ticks": ""
           },
           "bgcolor": "#E5ECF6",
           "caxis": {
            "gridcolor": "white",
            "linecolor": "white",
            "ticks": ""
           }
          },
          "title": {
           "x": 0.05
          },
          "xaxis": {
           "automargin": true,
           "gridcolor": "white",
           "linecolor": "white",
           "ticks": "",
           "title": {
            "standoff": 15
           },
           "zerolinecolor": "white",
           "zerolinewidth": 2
          },
          "yaxis": {
           "automargin": true,
           "gridcolor": "white",
           "linecolor": "white",
           "ticks": "",
           "title": {
            "standoff": 15
           },
           "zerolinecolor": "white",
           "zerolinewidth": 2
          }
         }
        },
        "title": {
         "font": {
          "size": 16
         },
         "text": "Revenue by State (2023)",
         "x": 0.5
        }
       }
      }
     },
     "metadata": {},
     "output_type": "display_data"
    }
   ],
   "source": [
    "# Create interactive geographic visualization\n",
    "geo_map = visualizer.create_geographic_map(geo_performance, f\"({TARGET_YEAR})\")\n",
    "geo_map.show()"
   ]
  },
  {
   "cell_type": "code",
   "execution_count": 36,
   "metadata": {},
   "outputs": [
    {
     "data": {
      "image/png": "[encoded data removed]",
      "text/plain": [
       "<Figure size 1500x600 with 2 Axes>"
      ]
     },
     "metadata": {},
     "output_type": "display_data"
    }
   ],
   "source": [
    "# Create top states bar chart\n",
    "top_states = geo_performance.head(10)\n",
    "\n",
    "fig, (ax1, ax2) = plt.subplots(1, 2, figsize=(15, 6))\n",
    "fig.suptitle(f'Top 10 States Performance ({TARGET_YEAR})', fontsize=16, fontweight='bold')\n",
    "\n",
    "# Revenue by state\n",
    "ax1.barh(top_states['customer_state'], top_states['total_revenue'], color='steelblue', alpha=0.8)\n",
    "ax1.set_title('Total Revenue by State')\n",
    "ax1.set_xlabel('Total Revenue ($)')\n",
    "ax1.invert_yaxis()\n",
    "\n",
    "# AOV by state\n",
    "ax2.barh(top_states['customer_state'], top_states['avg_order_value'], color='darkorange', alpha=0.8)\n",
    "ax2.set_title('Average Order Value by State')\n",
    "ax2.set_xlabel('Average Order Value ($)')\n",
    "ax2.invert_yaxis()\n",
    "\n",
    "plt.tight_layout()\n",
    "plt.show()\n",
    "plt.close()"
   ]
  },
  {
   "cell_type": "markdown",
   "metadata": {},
   "source": [
    "## 7. Customer Experience Analysis {#customer-experience}\n",
    "\n",
    "Analysis of customer satisfaction metrics and the relationship between delivery performance and customer ratings."
   ]
  },
  {
   "cell_type": "code",
   "execution_count": 37,
   "metadata": {},
   "outputs": [
    {
     "name": "stdout",
     "output_type": "stream",
     "text": [
      "CUSTOMER SATISFACTION ANALYSIS\n",
      "==================================================\n",
      "\n",
      "Overall Satisfaction Metrics (2023):\n",
      "Average Review Score: 4.10/5.0\n",
      "Total Reviews: 3,225\n",
      "Average Delivery Days: 8.0 days\n",
      "\n",
      "Satisfaction by Delivery Speed:\n",
      "  delivery_category  avg_review_score  review_count\n",
      "0          1-3 days              4.19           232\n",
      "1          4-7 days              4.08          1199\n",
      "2           8+ days              4.11          1794\n",
      "\n",
      "Review Score Distribution:\n",
      "   review_score  percentage\n",
      "0             1         3.5\n",
      "1             2         6.9\n",
      "2             3        15.4\n",
      "3             4        24.3\n",
      "4             5        49.9\n"
     ]
    }
   ],
   "source": [
    "# Analyze customer satisfaction\n",
    "satisfaction_analysis = metrics.analyze_customer_satisfaction(\n",
    "    target_data, datasets['reviews']\n",
    ")\n",
    "\n",
    "print(\"CUSTOMER SATISFACTION ANALYSIS\")\n",
    "print(\"=\"*50)\n",
    "print(f\"\\nOverall Satisfaction Metrics ({TARGET_YEAR}):\")\n",
    "for _, row in satisfaction_analysis['overall_metrics'].iterrows():\n",
    "    if 'Score' in row['metric']:\n",
    "        print(f\"{row['metric']}: {row['value']:.2f}/5.0\")\n",
    "    elif 'Days' in row['metric']:\n",
    "        print(f\"{row['metric']}: {row['value']:.1f} days\")\n",
    "    else:\n",
    "        print(f\"{row['metric']}: {row['value']:,.0f}\")\n",
    "\n",
    "print(f\"\\nSatisfaction by Delivery Speed:\")\n",
    "print(satisfaction_analysis['delivery_satisfaction'])\n",
    "\n",
    "print(f\"\\nReview Score Distribution:\")\n",
    "print(satisfaction_analysis['score_distribution'])"
   ]
  },
  {
   "cell_type": "code",
   "execution_count": 38,
   "metadata": {},
   "outputs": [
    {
     "data": {
      "image/png": "[encoded data removed]",
      "text/plain": [
       "<Figure size 1800x600 with 3 Axes>"
      ]
     },
     "metadata": {},
     "output_type": "display_data"
    }
   ],
   "source": [
    "# Create customer satisfaction visualization\n",
    "satisfaction_fig = visualizer.plot_customer_satisfaction(satisfaction_analysis)\n",
    "plt.show()\n",
    "plt.close()"
   ]
  },
  {
   "cell_type": "markdown",
   "metadata": {},
   "source": [
    "## 8. Operational Metrics {#operational-metrics}\n",
    "\n",
    "Analysis of operational KPIs including order status distribution and delivery performance metrics."
   ]
  },
  {
   "cell_type": "code",
   "execution_count": 39,
   "metadata": {},
   "outputs": [
    {
     "name": "stdout",
     "output_type": "stream",
     "text": [
      "OPERATIONAL PERFORMANCE METRICS\n",
      "==================================================\n",
      "\n",
      "Key Operational KPIs (2023):\n",
      "Total Orders Processed: 4,950\n",
      "Delivery Rate: 93.6%\n",
      "Cancellation Rate: 1.3%\n",
      "Return Rate: 0.2%\n",
      "Average Delivery Time: 8.0 days\n",
      "\n",
      "Order Status Distribution:\n",
      "Cancellation Rate: 1.3%\n",
      "Return Rate: 0.2%\n",
      "Delivered: 93.6%\n",
      "Shipped: 3.2%\n",
      "Canceled: 1.3%\n",
      "Processing: 1.2%\n",
      "Pending: 0.5%\n",
      "Returned: 0.2%\n"
     ]
    }
   ],
   "source": [
    "# Calculate operational metrics\n",
    "operational_metrics = metrics.calculate_operational_metrics(\n",
    "    datasets['orders'], target_year=TARGET_YEAR\n",
    ")\n",
    "\n",
    "print(\"OPERATIONAL PERFORMANCE METRICS\")\n",
    "print(\"=\"*50)\n",
    "print(f\"\\nKey Operational KPIs ({TARGET_YEAR}):\")\n",
    "print(f\"Total Orders Processed: {operational_metrics['total_orders']:,}\")\n",
    "print(f\"Delivery Rate: {operational_metrics['delivery_rate_pct']:.1f}%\")\n",
    "print(f\"Cancellation Rate: {operational_metrics['cancellation_rate_pct']:.1f}%\")\n",
    "print(f\"Return Rate: {operational_metrics['return_rate_pct']:.1f}%\")\n",
    "print(f\"Average Delivery Time: {operational_metrics['avg_delivery_days']:.1f} days\")\n",
    "\n",
    "print(f\"\\nOrder Status Distribution:\")\n",
    "status_metrics = {k: v for k, v in operational_metrics.items() if k.endswith('_pct') and k != 'delivery_rate_pct'}\n",
    "for status, pct in status_metrics.items():\n",
    "    status_name = status.replace('_pct', '').replace('_', ' ').title()\n",
    "    print(f\"{status_name}: {pct:.1f}%\")"
   ]
  },
  {
   "cell_type": "code",
   "execution_count": 40,
   "metadata": {},
   "outputs": [
    {
     "data": {
      "image/png": "[encoded data removed]",
      "text/plain": [
       "<Figure size 1500x600 with 2 Axes>"
      ]
     },
     "metadata": {},
     "output_type": "display_data"
    }
   ],
   "source": [
    "# Create operational metrics visualization\n",
    "fig, axes = plt.subplots(1, 2, figsize=(15, 6))\n",
    "fig.suptitle(f'Operational Performance Metrics ({TARGET_YEAR})', fontsize=16, fontweight='bold')\n",
    "\n",
    "# Order status distribution\n",
    "status_data = [(k.replace('_pct', '').replace('_', ' ').title(), v) \n",
    "               for k, v in operational_metrics.items() if k.endswith('_pct')]\n",
    "status_names, status_values = zip(*status_data)\n",
    "\n",
    "colors = ['green' if 'Delivered' in name else 'red' if any(x in name for x in ['Canceled', 'Returned']) \n",
    "          else 'orange' for name in status_names]\n",
    "\n",
    "wedges, texts, autotexts = axes[0].pie(status_values, labels=status_names, autopct='%1.1f%%', \n",
    "                                      colors=colors)\n",
    "axes[0].set_title('Order Status Distribution')\n",
    "\n",
    "# Key metrics bar chart\n",
    "key_metrics = [\n",
    "    ('Delivery Rate', operational_metrics['delivery_rate_pct']),\n",
    "    ('Cancellation Rate', operational_metrics['cancellation_rate_pct']),\n",
    "    ('Return Rate', operational_metrics['return_rate_pct'])\n",
    "]\n",
    "\n",
    "metric_names, metric_values = zip(*key_metrics)\n",
    "colors_bar = ['green', 'red', 'orange']\n",
    "\n",
    "bars = axes[1].bar(metric_names, metric_values, color=colors_bar, alpha=0.8)\n",
    "axes[1].set_title('Key Operational Metrics')\n",
    "axes[1].set_ylabel('Percentage (%)')\n",
    "\n",
    "# Add value labels on bars\n",
    "for bar, value in zip(bars, metric_values):\n",
    "    axes[1].text(bar.get_x() + bar.get_width()/2., bar.get_height() + 0.5,\n",
    "                f'{value:.1f}%', ha='center', va='bottom', fontweight='bold')\n",
    "\n",
    "plt.tight_layout()\n",
    "plt.show()\n",
    "plt.close()"
   ]
  },
  {
   "cell_type": "markdown",
   "metadata": {},
   "source": [
    "## 9. Executive Summary {#executive-summary}\n",
    "\n",
    "Comprehensive summary of key findings and business insights from the analysis."
   ]
  },
  {
   "cell_type": "code",
   "execution_count": 41,
   "metadata": {},
   "outputs": [
    {
     "name": "stdout",
     "output_type": "stream",
     "text": [
      "\n",
      "EXECUTIVE SUMMARY - 2023\n",
      "\n",
      "Revenue Performance:\n",
      "- Total Revenue: $3,360,295\n",
      "- Total Orders: 4,635\n",
      "- Average Order Value: $724.98\n",
      "\n",
      "Year-over-Year Growth vs 2022:\n",
      "- Revenue Growth: -2.5%\n",
      "- Order Volume Growth: -2.4%\n",
      "- Average Order Value Growth: -0.1%\n",
      "\n",
      "Performance Assessment:\n",
      "- Revenue declined by 2.5%, requiring strategic attention\n",
      "- Order volume decreased by 2.4%, indicating customer retention challenges\n",
      "\n"
     ]
    }
   ],
   "source": [
    "# Generate executive summary\n",
    "executive_summary = generate_executive_summary(\n",
    "    revenue_metrics, str(TARGET_YEAR), str(COMPARISON_YEAR)\n",
    ")\n",
    "\n",
    "print(executive_summary)"
   ]
  },
  {
   "cell_type": "code",
   "execution_count": 42,
   "metadata": {},
   "outputs": [
    {
     "data": {
      "application/vnd.plotly.v1+json": {
       "config": {
        "plotlyServerURL": "https://plot.ly"
       },
       "data": [
        {
         "line": {
          "color": "steelblue"
         },
         "mode": "lines+markers",
         "name": "Revenue",
         "type": "scatter",
         "x": [
          "Jan",
          "Feb",
          "Mar",
          "Apr",
          "May",
          "Jun",
          "Jul",
          "Aug",
          "Sep",
          "Oct",
          "Nov",
          "Dec"
         ],
         "xaxis": "x",
         "y": {
          "bdata": "uB6F691iEUGPwvUoWuQQQUjhehTLbhFBXI/C9RT7DkFxPQrXj2QSQRSuR+GapRFB9ihcj0UUEkFmZmZm1n4RQZqZmZnEihJBMzMzM5G5D0EK16Nw960PQYXrUbg9CRBB",
          "dtype": "f8"
         },
         "yaxis": "y"
        },
        {
         "marker": {
          "color": "darkorange"
         },
         "name": "Category Revenue",
         "type": "bar",
         "x": [
          "Electronics",
          "Home Garden",
          "Sports Outdoors",
          "Automotive",
          "Clothing Shoes Jewelry"
         ],
         "xaxis": "x2",
         "y": {
          "bdata": "XI/CNQ9iNUGkcD2KelMqQXsUrkf1BBFBzczMzNg8DkEfhetRSGkMQQ==",
          "dtype": "f8"
         },
         "yaxis": "y2"
        },
        {
         "marker": {
          "color": "green"
         },
         "name": "State Revenue",
         "type": "bar",
         "x": [
          "CA",
          "TX",
          "FL",
          "NY",
          "IL"
         ],
         "xaxis": "x3",
         "y": {
          "bdata": "rkfhejFqIEFcj8L1nZ0YQcP1KFzP7hJBzczMzL7lDkHsUbgeV7IGQQ==",
          "dtype": "f8"
         },
         "yaxis": "y3"
        },
        {
         "marker": {
          "color": "purple"
         },
         "name": "Review Distribution",
         "type": "bar",
         "x": {
          "bdata": "AQIDBAU=",
          "dtype": "i1"
         },
         "xaxis": "x4",
         "y": {
          "bdata": "AAAAAAAADECamZmZmZkbQM3MzMzMzC5AzczMzMxMOEAzMzMzM/NIQA==",
          "dtype": "f8"
         },
         "yaxis": "y4"
        }
       ],
       "layout": {
        "annotations": [
         {
          "font": {
           "size": 16
          },
          "showarrow": false,
          "text": "Revenue Trend",
          "x": 0.225,
          "xanchor": "center",
          "xref": "paper",
          "y": 1,
          "yanchor": "bottom",
          "yref": "paper"
         },
         {
          "font": {
           "size": 16
          },
          "showarrow": false,
          "text": "Top Categories",
          "x": 0.775,
          "xanchor": "center",
          "xref": "paper",
          "y": 1,
          "yanchor": "bottom",
          "yref": "paper"
         },
         {
          "font": {
           "size": 16
          },
          "showarrow": false,
          "text": "Geographic Performance",
          "x": 0.225,
          "xanchor": "center",
          "xref": "paper",
          "y": 0.375,
          "yanchor": "bottom",
          "yref": "paper"
         },
         {
          "font": {
           "size": 16
          },
          "showarrow": false,
          "text": "Customer Satisfaction",
          "x": 0.775,
          "xanchor": "center",
          "xref": "paper",
          "y": 0.375,
          "yanchor": "bottom",
          "yref": "paper"
         }
        ],
        "height": 800,
        "showlegend": false,
        "template": {
         "data": {
          "bar": [
           {
            "error_x": {
             "color": "#2a3f5f"
            },
            "error_y": {
             "color": "#2a3f5f"
            },
            "marker": {
             "line": {
              "color": "#E5ECF6",
              "width": 0.5
             },
             "pattern": {
              "fillmode": "overlay",
              "size": 10,
              "solidity": 0.2
             }
            },
            "type": "bar"
           }
          ],
          "barpolar": [
           {
            "marker": {
             "line": {
              "color": "#E5ECF6",
              "width": 0.5
             },
             "pattern": {
              "fillmode": "overlay",
              "size": 10,
              "solidity": 0.2
             }
            },
            "type": "barpolar"
           }
          ],
          "carpet": [
           {
            "aaxis": {
             "endlinecolor": "#2a3f5f",
             "gridcolor": "white",
             "linecolor": "white",
             "minorgridcolor": "white",
             "startlinecolor": "#2a3f5f"
            },
            "baxis": {
             "endlinecolor": "#2a3f5f",
             "gridcolor": "white",
             "linecolor": "white",
             "minorgridcolor": "white",
             "startlinecolor": "#2a3f5f"
            },
            "type": "carpet"
           }
          ],
          "choropleth": [
           {
            "colorbar": {
             "outlinewidth": 0,
             "ticks": ""
            },
            "type": "choropleth"
           }
          ],
          "contour": [
           {
            "colorbar": {
             "outlinewidth": 0,
             "ticks": ""
            },
            "colorscale": [
             [
              0,
              "#0d0887"
             ],
             [
              0.1111111111111111,
              "#46039f"
             ],
             [
              0.2222222222222222,
              "#7201a8"
             ],
             [
              0.3333333333333333,
              "#9c179e"
             ],
             [
              0.4444444444444444,
              "#bd3786"
             ],
             [
              0.5555555555555556,
              "#d8576b"
             ],
             [
              0.6666666666666666,
              "#ed7953"
             ],
             [
              0.7777777777777778,
              "#fb9f3a"
             ],
             [
              0.8888888888888888,
              "#fdca26"
             ],
             [
              1,
              "#f0f921"
             ]
            ],
            "type": "contour"
           }
          ],
          "contourcarpet": [
           {
            "colorbar": {
             "outlinewidth": 0,
             "ticks": ""
            },
            "type": "contourcarpet"
           }
          ],
          "heatmap": [
           {
            "colorbar": {
             "outlinewidth": 0,
             "ticks": ""
            },
            "colorscale": [
             [
              0,
              "#0d0887"
             ],
             [
              0.1111111111111111,
              "#46039f"
             ],
             [
              0.2222222222222222,
              "#7201a8"
             ],
             [
              0.3333333333333333,
              "#9c179e"
             ],
             [
              0.4444444444444444,
              "#bd3786"
             ],
             [
              0.5555555555555556,
              "#d8576b"
             ],
             [
              0.6666666666666666,
              "#ed7953"
             ],
             [
              0.7777777777777778,
              "#fb9f3a"
             ],
             [
              0.8888888888888888,
              "#fdca26"
             ],
             [
              1,
              "#f0f921"
             ]
            ],
            "type": "heatmap"
           }
          ],
          "histogram": [
           {
            "marker": {
             "pattern": {
              "fillmode": "overlay",
              "size": 10,
              "solidity": 0.2
             }
            },
            "type": "histogram"
           }
          ],
          "histogram2d": [
           {
            "colorbar": {
             "outlinewidth": 0,
             "ticks": ""
            },
            "colorscale": [
             [
              0,
              "#0d0887"
             ],
             [
              0.1111111111111111,
              "#46039f"
             ],
             [
              0.2222222222222222,
              "#7201a8"
             ],
             [
              0.3333333333333333,
              "#9c179e"
             ],
             [
              0.4444444444444444,
              "#bd3786"
             ],
             [
              0.5555555555555556,
              "#d8576b"
             ],
             [
              0.6666666666666666,
              "#ed7953"
             ],
             [
              0.7777777777777778,
              "#fb9f3a"
             ],
             [
              0.8888888888888888,
              "#fdca26"
             ],
             [
              1,
              "#f0f921"
             ]
            ],
            "type": "histogram2d"
           }
          ],
          "histogram2dcontour": [
           {
            "colorbar": {
             "outlinewidth": 0,
             "ticks": ""
            },
            "colorscale": [
             [
              0,
              "#0d0887"
             ],
             [
              0.1111111111111111,
              "#46039f"
             ],
             [
              0.2222222222222222,
              "#7201a8"
             ],
             [
              0.3333333333333333,
              "#9c179e"
             ],
             [
              0.4444444444444444,
              "#bd3786"
             ],
             [
              0.5555555555555556,
              "#d8576b"
             ],
             [
              0.6666666666666666,
              "#ed7953"
             ],
             [
              0.7777777777777778,
              "#fb9f3a"
             ],
             [
              0.8888888888888888,
              "#fdca26"
             ],
             [
              1,
              "#f0f921"
             ]
            ],
            "type": "histogram2dcontour"
           }
          ],
          "mesh3d": [
           {
            "colorbar": {
             "outlinewidth": 0,
             "ticks": ""
            },
            "type": "mesh3d"
           }
          ],
          "parcoords": [
           {
            "line": {
             "colorbar": {
              "outlinewidth": 0,
              "ticks": ""
             }
            },
            "type": "parcoords"
           }
          ],
          "pie": [
           {
            "automargin": true,
            "type": "pie"
           }
          ],
          "scatter": [
           {
            "fillpattern": {
             "fillmode": "overlay",
             "size": 10,
             "solidity": 0.2
            },
            "type": "scatter"
           }
          ],
          "scatter3d": [
           {
            "line": {
             "colorbar": {
              "outlinewidth": 0,
              "ticks": ""
             }
            },
            "marker": {
             "colorbar": {
              "outlinewidth": 0,
              "ticks": ""
             }
            },
            "type": "scatter3d"
           }
          ],
          "scattercarpet": [
           {
            "marker": {
             "colorbar": {
              "outlinewidth": 0,
              "ticks": ""
             }
            },
            "type": "scattercarpet"
           }
          ],
          "scattergeo": [
           {
            "marker": {
             "colorbar": {
              "outlinewidth": 0,
              "ticks": ""
             }
            },
            "type": "scattergeo"
           }
          ],
          "scattergl": [
           {
            "marker": {
             "colorbar": {
              "outlinewidth": 0,
              "ticks": ""
             }
            },
            "type": "scattergl"
           }
          ],
          "scattermap": [
           {
            "marker": {
             "colorbar": {
              "outlinewidth": 0,
              "ticks": ""
             }
            },
            "type": "scattermap"
           }
          ],
          "scattermapbox": [
           {
            "marker": {
             "colorbar": {
              "outlinewidth": 0,
              "ticks": ""
             }
            },
            "type": "scattermapbox"
           }
          ],
          "scatterpolar": [
           {
            "marker": {
             "colorbar": {
              "outlinewidth": 0,
              "ticks": ""
             }
            },
            "type": "scatterpolar"
           }
          ],
          "scatterpolargl": [
           {
            "marker": {
             "colorbar": {
              "outlinewidth": 0,
              "ticks": ""
             }
            },
            "type": "scatterpolargl"
           }
          ],
          "scatterternary": [
           {
            "marker": {
             "colorbar": {
              "outlinewidth": 0,
              "ticks": ""
             }
            },
            "type": "scatterternary"
           }
          ],
          "surface": [
           {
            "colorbar": {
             "outlinewidth": 0,
             "ticks": ""
            },
            "colorscale": [
             [
              0,
              "#0d0887"
             ],
             [
              0.1111111111111111,
              "#46039f"
             ],
             [
              0.2222222222222222,
              "#7201a8"
             ],
             [
              0.3333333333333333,
              "#9c179e"
             ],
             [
              0.4444444444444444,
              "#bd3786"
             ],
             [
              0.5555555555555556,
              "#d8576b"
             ],
             [
              0.6666666666666666,
              "#ed7953"
             ],
             [
              0.7777777777777778,
              "#fb9f3a"
             ],
             [
              0.8888888888888888,
              "#fdca26"
             ],
             [
              1,
              "#f0f921"
             ]
            ],
            "type": "surface"
           }
          ],
          "table": [
           {
            "cells": {
             "fill": {
              "color": "#EBF0F8"
             },
             "line": {
              "color": "white"
             }
            },
            "header": {
             "fill": {
              "color": "#C8D4E3"
             },
             "line": {
              "color": "white"
             }
            },
            "type": "table"
           }
          ]
         },
         "layout": {
          "annotationdefaults": {
           "arrowcolor": "#2a3f5f",
           "arrowhead": 0,
           "arrowwidth": 1
          },
          "autotypenumbers": "strict",
          "coloraxis": {
           "colorbar": {
            "outlinewidth": 0,
            "ticks": ""
           }
          },
          "colorscale": {
           "diverging": [
            [
             0,
             "#8e0152"
            ],
            [
             0.1,
             "#c51b7d"
            ],
            [
             0.2,
             "#de77ae"
            ],
            [
             0.3,
             "#f1b6da"
            ],
            [
             0.4,
             "#fde0ef"
            ],
            [
             0.5,
             "#f7f7f7"
            ],
            [
             0.6,
             "#e6f5d0"
            ],
            [
             0.7,
             "#b8e186"
            ],
            [
             0.8,
             "#7fbc41"
            ],
            [
             0.9,
             "#4d9221"
            ],
            [
             1,
             "#276419"
            ]
           ],
           "sequential": [
            [
             0,
             "#0d0887"
            ],
            [
             0.1111111111111111,
             "#46039f"
            ],
            [
             0.2222222222222222,
             "#7201a8"
            ],
            [
             0.3333333333333333,
             "#9c179e"
            ],
            [
             0.4444444444444444,
             "#bd3786"
            ],
            [
             0.5555555555555556,
             "#d8576b"
            ],
            [
             0.6666666666666666,
             "#ed7953"
            ],
            [
             0.7777777777777778,
             "#fb9f3a"
            ],
            [
             0.8888888888888888,
             "#fdca26"
            ],
            [
             1,
             "#f0f921"
            ]
           ],
           "sequentialminus": [
            [
             0,
             "#0d0887"
            ],
            [
             0.1111111111111111,
             "#46039f"
            ],
            [
             0.2222222222222222,
             "#7201a8"
            ],
            [
             0.3333333333333333,
             "#9c179e"
            ],
            [
             0.4444444444444444,
             "#bd3786"
            ],
            [
             0.5555555555555556,
             "#d8576b"
            ],
            [
             0.6666666666666666,
             "#ed7953"
            ],
            [
             0.7777777777777778,
             "#fb9f3a"
            ],
            [
             0.8888888888888888,
             "#fdca26"
            ],
            [
             1,
             "#f0f921"
            ]
           ]
          },
          "colorway": [
           "#636efa",
           "#EF553B",
           "#00cc96",
           "#ab63fa",
           "#FFA15A",
           "#19d3f3",
           "#FF6692",
           "#B6E880",
           "#FF97FF",
           "#FECB52"
          ],
          "font": {
           "color": "#2a3f5f"
          },
          "geo": {
           "bgcolor": "white",
           "lakecolor": "white",
           "landcolor": "#E5ECF6",
           "showlakes": true,
           "showland": true,
           "subunitcolor": "white"
          },
          "hoverlabel": {
           "align": "left"
          },
          "hovermode": "closest",
          "mapbox": {
           "style": "light"
          },
          "paper_bgcolor": "white",
          "plot_bgcolor": "#E5ECF6",
          "polar": {
           "angularaxis": {
            "gridcolor": "white",
            "linecolor": "white",
            "ticks": ""
           },
           "bgcolor": "#E5ECF6",
           "radialaxis": {
            "gridcolor": "white",
            "linecolor": "white",
            "ticks": ""
           }
          },
          "scene": {
           "xaxis": {
            "backgroundcolor": "#E5ECF6",
            "gridcolor": "white",
            "gridwidth": 2,
            "linecolor": "white",
            "showbackground": true,
            "ticks": "",
            "zerolinecolor": "white"
           },
           "yaxis": {
            "backgroundcolor": "#E5ECF6",
            "gridcolor": "white",
            "gridwidth": 2,
            "linecolor": "white",
            "showbackground": true,
            "ticks": "",
            "zerolinecolor": "white"
           },
           "zaxis": {
            "backgroundcolor": "#E5ECF6",
            "gridcolor": "white",
            "gridwidth": 2,
            "linecolor": "white",
            "showbackground": true,
            "ticks": "",
            "zerolinecolor": "white"
           }
          },
          "shapedefaults": {
           "line": {
            "color": "#2a3f5f"
           }
          },
          "ternary": {
           "aaxis": {
            "gridcolor": "white",
            "linecolor": "white",
            "ticks": ""
           },
           "baxis": {
            "gridcolor": "white",
            "linecolor": "white",
            "ticks": ""
           },
           "bgcolor": "#E5ECF6",
           "caxis": {
            "gridcolor": "white",
            "linecolor": "white",
            "ticks": ""
           }
          },
          "title": {
           "x": 0.05
          },
          "xaxis": {
           "automargin": true,
           "gridcolor": "white",
           "linecolor": "white",
           "ticks": "",
           "title": {
            "standoff": 15
           },
           "zerolinecolor": "white",
           "zerolinewidth": 2
          },
          "yaxis": {
           "automargin": true,
           "gridcolor": "white",
           "linecolor": "white",
           "ticks": "",
           "title": {
            "standoff": 15
           },
           "zerolinecolor": "white",
           "zerolinewidth": 2
          }
         }
        },
        "title": {
         "font": {
          "size": 20
         },
         "text": "E-commerce Performance Dashboard (2023)",
         "x": 0.5
        },
        "xaxis": {
         "anchor": "y",
         "domain": [
          0,
          0.45
         ]
        },
        "xaxis2": {
         "anchor": "y2",
         "domain": [
          0.55,
          1
         ]
        },
        "xaxis3": {
         "anchor": "y3",
         "domain": [
          0,
          0.45
         ]
        },
        "xaxis4": {
         "anchor": "y4",
         "domain": [
          0.55,
          1
         ]
        },
        "yaxis": {
         "anchor": "x",
         "domain": [
          0.625,
          1
         ]
        },
        "yaxis2": {
         "anchor": "x2",
         "domain": [
          0.625,
          1
         ]
        },
        "yaxis3": {
         "anchor": "x3",
         "domain": [
          0,
          0.375
         ]
        },
        "yaxis4": {
         "anchor": "x4",
         "domain": [
          0,
          0.375
         ]
        }
       }
      }
     },
     "metadata": {},
     "output_type": "display_data"
    }
   ],
   "source": [
    "# Create executive dashboard summary\n",
    "fig = make_subplots(\n",
    "    rows=2, cols=2,\n",
    "    subplot_titles=('Revenue Trend', 'Top Categories', 'Geographic Performance', 'Customer Satisfaction'),\n",
    "    specs=[[{'type': 'scatter'}, {'type': 'bar'}],\n",
    "           [{'type': 'bar'}, {'type': 'bar'}]]\n",
    ")\n",
    "\n",
    "# Revenue trend\n",
    "month_names = ['Jan', 'Feb', 'Mar', 'Apr', 'May', 'Jun', \n",
    "              'Jul', 'Aug', 'Sep', 'Oct', 'Nov', 'Dec']\n",
    "trend_months = [month_names[m-1] for m in monthly_trends['month']]\n",
    "\n",
    "fig.add_trace(\n",
    "    go.Scatter(x=trend_months, y=monthly_trends['revenue'], \n",
    "               mode='lines+markers', name='Revenue', line=dict(color='steelblue')),\n",
    "    row=1, col=1\n",
    ")\n",
    "\n",
    "# Top categories\n",
    "top_5_categories = category_performance.head(5)\n",
    "cat_names = top_5_categories['product_category_name'].str.replace('_', ' ').str.title()\n",
    "\n",
    "fig.add_trace(\n",
    "    go.Bar(x=cat_names, y=top_5_categories['total_revenue'], \n",
    "           name='Category Revenue', marker_color='darkorange'),\n",
    "    row=1, col=2\n",
    ")\n",
    "\n",
    "# Top states\n",
    "top_5_states = geo_performance.head(5)\n",
    "\n",
    "fig.add_trace(\n",
    "    go.Bar(x=top_5_states['customer_state'], y=top_5_states['total_revenue'],\n",
    "           name='State Revenue', marker_color='green'),\n",
    "    row=2, col=1\n",
    ")\n",
    "\n",
    "# Customer satisfaction\n",
    "satisfaction_data = satisfaction_analysis['score_distribution']\n",
    "\n",
    "fig.add_trace(\n",
    "    go.Bar(x=satisfaction_data['review_score'], y=satisfaction_data['percentage'],\n",
    "           name='Review Distribution', marker_color='purple'),\n",
    "    row=2, col=2\n",
    ")\n",
    "\n",
    "fig.update_layout(\n",
    "    height=800,\n",
    "    title_text=f\"E-commerce Performance Dashboard ({TARGET_YEAR})\",\n",
    "    title_font_size=20,\n",
    "    title_x=0.5,\n",
    "    showlegend=False\n",
    ")\n",
    "\n",
    "fig.show()"
   ]
  },
  {
   "cell_type": "markdown",
   "metadata": {},
   "source": [
    "## Key Business Insights & Recommendations\n",
    "\n",
    "**Performance Highlights:**\n",
    "1. **Revenue Performance**: Analysis of year-over-year growth trends\n",
    "2. **Product Focus**: Identification of top-performing categories\n",
    "3. **Geographic Opportunities**: Regional performance variations\n",
    "4. **Customer Experience**: Delivery speed impact on satisfaction\n",
    "5. **Operational Efficiency**: Order fulfillment and delivery metrics\n",
    "\n",
    "**Strategic Recommendations:**\n",
    "- Focus on high-performing product categories for inventory expansion\n",
    "- Optimize delivery speed to improve customer satisfaction\n",
    "- Target geographic regions with growth potential\n",
    "- Monitor operational metrics to maintain service quality\n",
    "\n",
    "---\n",
    "\n",
    "*Analysis completed successfully. All metrics calculated using delivered orders only to ensure accurate revenue reporting.*"
   ]
  },
  {
   "cell_type": "code",
   "execution_count": 43,
   "metadata": {},
   "outputs": [
    {
     "name": "stdout",
     "output_type": "stream",
     "text": [
      "ANALYSIS COMPLETION SUMMARY\n",
      "==================================================\n",
      "Analysis Period: 2023\n",
      "Comparison Period: 2022\n",
      "Records Analyzed: 7,448\n",
      "Total Revenue Analyzed: $3,360,294.74\n",
      "Unique Orders: 4,635\n",
      "Unique Products: 4,286\n",
      "\n",
      "Analysis completed at: 2025-08-24 07:53:29\n"
     ]
    }
   ],
   "source": [
    "# Final summary statistics\n",
    "print(\"ANALYSIS COMPLETION SUMMARY\")\n",
    "print(\"=\"*50)\n",
    "print(f\"Analysis Period: {TARGET_YEAR}\")\n",
    "print(f\"Comparison Period: {COMPARISON_YEAR}\")\n",
    "print(f\"Records Analyzed: {len(target_data):,}\")\n",
    "print(f\"Total Revenue Analyzed: ${target_data['price'].sum():,.2f}\")\n",
    "print(f\"Unique Orders: {target_data['order_id'].nunique():,}\")\n",
    "print(f\"Unique Products: {target_data['product_id'].nunique():,}\")\n",
    "print(f\"\\nAnalysis completed at:\", pd.Timestamp.now().strftime('%Y-%m-%d %H:%M:%S'))"
   ]
  }
 ],
 "metadata": {
  "kernelspec": {
   "display_name": ".venv (3.12.2)",
   "language": "python",
   "name": "python3"
  },
  "language_info": {
   "codemirror_mode": {
    "name": "ipython",
    "version": 3
   },
   "file_extension": ".py",
   "mimetype": "text/x-python",
   "name": "python",
   "nbconvert_exporter": "python",
   "pygments_lexer": "ipython3",
   "version": "3.12.2"
  }
 },
 "nbformat": 4,
 "nbformat_minor": 4
}
