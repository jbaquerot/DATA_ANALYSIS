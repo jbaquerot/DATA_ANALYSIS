{
  "cells": [
    {
      "cell_type": "markdown",
      "metadata": {},
      "source": [
        "# E-commerce Business Analytics Dashboard\n",
        "\n",
        "**Business Intelligence Report**  \n",
        "*Comprehensive analysis of e-commerce performance metrics*\n",
        "\n",
        "---\n",
        "\n",
        "## Table of Contents\n",
        "\n",
        "1. [Business Objectives & Configuration](#business-objectives)\n",
        "2. [Data Dictionary & Overview](#data-dictionary)\n",
        "3. [Data Loading & Preparation](#data-loading)\n",
        "4. [Revenue Performance Analysis](#revenue-analysis)\n",
        "5. [Product Performance Analysis](#product-analysis)\n",
        "6. [Geographic Performance Analysis](#geographic-analysis)\n",
        "7. [Customer Experience Analysis](#customer-experience)\n",
        "8. [Operational Metrics](#operational-metrics)\n",
        "9. [Executive Summary](#executive-summary)\n",
        "\n",
        "---"
      ]
    },
    {
      "cell_type": "markdown",
      "metadata": {},
      "source": [
        "## 1. Business Objectives & Configuration {#business-objectives}\n",
        "\n",
        "This analysis focuses on understanding business performance across multiple dimensions:\n",
        "\n",
        "**Key Business Questions:**\n",
        "- How did revenue perform in the target period compared to the previous period?\n",
        "- What are the month-over-month growth trends?\n",
        "- Which product categories drive the most revenue?\n",
        "- How does performance vary by geographic region?\n",
        "- What is the relationship between delivery speed and customer satisfaction?\n",
        "\n",
        "**Analysis Configuration:**\n",
        "Configure your analysis parameters below:"
      ]
    },
    {
      "cell_type": "code",
      "execution_count": null,
      "metadata": {},
      "outputs": [],
      "source": [
        "# Analysis Configuration\n",
        "TARGET_YEAR = 2023  # Primary year for analysis\n",
        "COMPARISON_YEAR = 2022  # Comparison year for growth analysis\n",
        "DATA_PATH = \"ecommerce_data/\"  # Path to data files\n",
        "\n",
        "# Optional: Filter by specific months (None for full year)\n",
        "TARGET_START_MONTH = None  # 1-12, None for full year\n",
        "TARGET_END_MONTH = None    # 1-12, None for full year\n",
        "\n",
        "print(f\"Analysis Configuration:\")\n",
        "print(f\"Target Period: {TARGET_YEAR}\")\n",
        "print(f\"Comparison Period: {COMPARISON_YEAR}\")\n",
        "if TARGET_START_MONTH and TARGET_END_MONTH:\n",
        "    print(f\"Month Range: {TARGET_START_MONTH} to {TARGET_END_MONTH}\")\n",
        "else:\n",
        "    print(f\"Month Range: Full Year\")"
      ]
    },
    {
      "cell_type": "markdown",
      "metadata": {},
      "source": [
        "## 2. Data Dictionary & Overview {#data-dictionary}\n",
        "\n",
        "**Dataset Overview:**\n",
        "\n",
        "| Dataset | Description | Key Fields |\n",
        "|---------|-------------|------------|\n",
        "| **Orders** | Order transactions and status | order_id, customer_id, order_status, timestamps |\n",
        "| **Order Items** | Individual items within orders | order_id, product_id, price, freight_value |\n",
        "| **Products** | Product catalog information | product_id, category_name, dimensions |\n",
        "| **Customers** | Customer demographics | customer_id, state, city, zip_code |\n",
        "| **Reviews** | Customer feedback and ratings | order_id, review_score, comments |\n",
        "\n",
        "**Key Business Metrics:**\n",
        "- **Revenue**: Total sales value from delivered orders\n",
        "- **Average Order Value (AOV)**: Average revenue per order\n",
        "- **Customer Satisfaction**: Average review score (1-5 scale)\n",
        "- **Delivery Performance**: Days from purchase to delivery\n",
        "- **Order Status Distribution**: Percentage of orders by status"
      ]
    },
    {
      "cell_type": "markdown",
      "metadata": {},
      "source": [
        "## 3. Data Loading & Preparation {#data-loading}\n",
        "\n",
        "Loading and preprocessing all e-commerce datasets with proper data types and validation."
      ]
    },
    {
      "cell_type": "code",
      "execution_count": null,
      "metadata": {},
      "outputs": [],
      "source": [
        "# Import required libraries\n",
        "import pandas as pd\n",
        "import numpy as np\n",
        "import matplotlib.pyplot as plt\n",
        "import seaborn as sns\n",
        "import plotly.express as px\n",
        "import plotly.graph_objects as go\n",
        "from plotly.subplots import make_subplots\n",
        "import warnings\n",
        "\n",
        "# Import custom modules\n",
        "from data_loader import EcommerceDataLoader, load_and_prepare_data\n",
        "from business_metrics import EcommerceMetrics, MetricsVisualizer, generate_executive_summary\n",
        "\n",
        "# Configure display options\n",
        "pd.set_option('display.max_columns', None)\n",
        "pd.set_option('display.width', 1000)\n",
        "warnings.filterwarnings('ignore')\n",
        "\n",
        "print(\"Libraries loaded successfully\")"
      ]
    },
    {
      "cell_type": "code",
      "execution_count": null,
      "metadata": {},
      "outputs": [],
      "source": [
        "# Load and prepare all datasets\n",
        "print(\"Loading e-commerce datasets...\")\n",
        "print(\"=\"*50)\n",
        "\n",
        "sales_data, datasets = load_and_prepare_data(\n",
        "    data_path=DATA_PATH,\n",
        "    target_year=TARGET_YEAR,\n",
        "    comparison_year=COMPARISON_YEAR\n",
        ")\n",
        "\n",
        "print(\"\\nData loading completed successfully!\")"
      ]
    },
    {
      "cell_type": "code",
      "execution_count": null,
      "metadata": {},
      "outputs": [],
      "source": [
        "# Create data loader instance for filtering\n",
        "loader = EcommerceDataLoader(DATA_PATH)\n",
        "\n",
        "# Filter data for target and comparison periods\n",
        "target_data = loader.filter_by_date_range(\n",
        "    sales_data, 'order_purchase_timestamp',\n",
        "    start_year=TARGET_YEAR, end_year=TARGET_YEAR,\n",
        "    start_month=TARGET_START_MONTH, end_month=TARGET_END_MONTH\n",
        ")\n",
        "\n",
        "comparison_data = loader.filter_by_date_range(\n",
        "    sales_data, 'order_purchase_timestamp',\n",
        "    start_year=COMPARISON_YEAR, end_year=COMPARISON_YEAR,\n",
        "    start_month=TARGET_START_MONTH, end_month=TARGET_END_MONTH\n",
        ")\n",
        "\n",
        "print(f\"Dataset Filtering Results:\")\n",
        "print(f\"Target period ({TARGET_YEAR}): {len(target_data):,} records\")\n",
        "print(f\"Comparison period ({COMPARISON_YEAR}): {len(comparison_data):,} records\")\n",
        "print(f\"\\nData Quality Check:\")\n",
        "print(f\"Target period revenue: ${target_data['price'].sum():,.2f}\")\n",
        "print(f\"Target period orders: {target_data['order_id'].nunique():,}\")"
      ]
    },
    {
      "cell_type": "markdown",
      "metadata": {},
      "source": [
        "## 4. Revenue Performance Analysis {#revenue-analysis}\n",
        "\n",
        "Comprehensive analysis of revenue performance including year-over-year comparison and monthly trends."
      ]
    },
    {
      "cell_type": "code",
      "execution_count": null,
      "metadata": {},
      "outputs": [],
      "source": [
        "# Calculate comprehensive revenue metrics\n",
        "metrics = EcommerceMetrics()\n",
        "revenue_metrics = metrics.calculate_revenue_metrics(\n",
        "    target_data, comparison_data, \n",
        "    current_period=str(TARGET_YEAR),\n",
        "    comparison_period=str(COMPARISON_YEAR)\n",
        ")\n",
        "\n",
        "# Display key revenue metrics\n",
        "print(\"REVENUE PERFORMANCE METRICS\")\n",
        "print(\"=\"*50)\n",
        "print(f\"\\n{TARGET_YEAR} Performance:\")\n",
        "print(f\"Total Revenue: ${revenue_metrics[f'{TARGET_YEAR}_total_revenue']:,.2f}\")\n",
        "print(f\"Total Orders: {revenue_metrics[f'{TARGET_YEAR}_total_orders']:,}\")\n",
        "print(f\"Average Order Value: ${revenue_metrics[f'{TARGET_YEAR}_avg_order_value']:.2f}\")\n",
        "print(f\"Total Items Sold: {revenue_metrics[f'{TARGET_YEAR}_total_items']:,}\")\n",
        "\n",
        "print(f\"\\nYear-over-Year Growth vs {COMPARISON_YEAR}:\")\n",
        "print(f\"Revenue Growth: {revenue_metrics['revenue_growth_rate']:+.2f}%\")\n",
        "print(f\"Order Growth: {revenue_metrics['order_growth_rate']:+.2f}%\")\n",
        "print(f\"AOV Growth: {revenue_metrics['aov_growth_rate']:+.2f}%\")"
      ]
    },
    {
      "cell_type": "code",
      "execution_count": null,
      "metadata": {},
      "outputs": [],
      "source": [
        "# Create revenue comparison visualization\n",
        "visualizer = MetricsVisualizer()\n",
        "revenue_fig = visualizer.plot_revenue_comparison(\n",
        "    revenue_metrics, str(TARGET_YEAR), str(COMPARISON_YEAR)\n",
        ")\n",
        "\n",
        "plt.show()\n",
        "plt.close()"
      ]
    },
    {
      "cell_type": "code",
      "execution_count": null,
      "metadata": {},
      "outputs": [],
      "source": [
        "# Calculate and visualize monthly trends\n",
        "monthly_trends = metrics.calculate_monthly_trends(target_data, TARGET_YEAR)\n",
        "\n",
        "print(\"MONTHLY TRENDS ANALYSIS\")\n",
        "print(\"=\"*50)\n",
        "print(f\"\\nMonthly Revenue Summary for {TARGET_YEAR}:\")\n",
        "print(monthly_trends[['month', 'revenue', 'orders', 'avg_order_value']].round(2))\n",
        "\n",
        "print(f\"\\nAverage Monthly Growth Rates:\")\n",
        "print(f\"Revenue Growth: {monthly_trends['revenue_growth'].mean():.2f}%\")\n",
        "print(f\"Order Growth: {monthly_trends['order_growth'].mean():.2f}%\")\n",
        "print(f\"AOV Growth: {monthly_trends['aov_growth'].mean():.2f}%\")"
      ]
    },
    {
      "cell_type": "code",
      "execution_count": null,
      "metadata": {},
      "outputs": [],
      "source": [
        "# Create monthly trends visualization\n",
        "trends_fig = visualizer.plot_monthly_trends(monthly_trends, TARGET_YEAR)\n",
        "plt.show()\n",
        "plt.close()"
      ]
    },
    {
      "cell_type": "markdown",
      "metadata": {},
      "source": [
        "## 5. Product Performance Analysis {#product-analysis}\n",
        "\n",
        "Analysis of product categories and individual product performance to identify top revenue drivers."
      ]
    },
    {
      "cell_type": "code",
      "execution_count": null,
      "metadata": {},
      "outputs": [],
      "source": [
        "# Analyze product performance\n",
        "product_analysis = metrics.analyze_product_performance(\n",
        "    target_data, datasets['products'], top_n=13\n",
        ")\n",
        "\n",
        "category_performance = product_analysis['category_performance']\n",
        "product_performance = product_analysis['product_performance']\n",
        "\n",
        "print(\"PRODUCT CATEGORY PERFORMANCE\")\n",
        "print(\"=\"*50)\n",
        "print(f\"\\nTop Product Categories by Revenue ({TARGET_YEAR}):\")\n",
        "print(category_performance.head(10))\n",
        "\n",
        "print(f\"\\nCategory Performance Summary:\")\n",
        "print(f\"Total Categories: {len(category_performance)}\")\n",
        "print(f\"Top Category Revenue: ${category_performance.iloc[0]['total_revenue']:,.2f}\")\n",
        "print(f\"Top Category: {category_performance.iloc[0]['product_category_name']}\")"
      ]
    },
    {
      "cell_type": "code",
      "execution_count": null,
      "metadata": {},
      "outputs": [],
      "source": [
        "# Create product category performance visualization\n",
        "category_fig = visualizer.plot_category_performance(\n",
        "    category_performance, f\"({TARGET_YEAR})\"\n",
        ")\n",
        "plt.show()\n",
        "plt.close()"
      ]
    },
    {
      "cell_type": "code",
      "execution_count": null,
      "metadata": {},
      "outputs": [],
      "source": [
        "# Create interactive category performance chart\n",
        "categories_clean = category_performance['product_category_name'].str.replace('_', ' ').str.title()\n",
        "\n",
        "fig = px.bar(\n",
        "    x=category_performance['total_revenue'],\n",
        "    y=categories_clean,\n",
        "    orientation='h',\n",
        "    title=f'Product Category Revenue Performance ({TARGET_YEAR})',\n",
        "    labels={'x': 'Total Revenue ($)', 'y': 'Product Category'},\n",
        "    color=category_performance['total_revenue'],\n",
        "    color_continuous_scale='Blues'\n",
        ")\n",
        "\n",
        "fig.update_layout(\n",
        "    height=600,\n",
        "    title_font_size=16,\n",
        "    title_x=0.5\n",
        ")\n",
        "\n",
        "fig.show()"
      ]
    },
    {
      "cell_type": "markdown",
      "metadata": {},
      "source": [
        "## 6. Geographic Performance Analysis {#geographic-analysis}\n",
        "\n",
        "Analysis of sales performance across different states to identify regional opportunities and trends."
      ]
    },
    {
      "cell_type": "code",
      "execution_count": null,
      "metadata": {},
      "outputs": [],
      "source": [
        "# Analyze geographic performance\n",
        "geo_performance = metrics.analyze_geographic_performance(\n",
        "    target_data, datasets['orders'], datasets['customers']\n",
        ")\n",
        "\n",
        "print(\"GEOGRAPHIC PERFORMANCE ANALYSIS\")\n",
        "print(\"=\"*50)\n",
        "print(f\"\\nTop 15 States by Revenue ({TARGET_YEAR}):\")\n",
        "print(geo_performance.head(15))\n",
        "\n",
        "print(f\"\\nGeographic Summary:\")\n",
        "print(f\"Total States: {len(geo_performance)}\")\n",
        "print(f\"Top State: {geo_performance.iloc[0]['customer_state']}\")\n",
        "print(f\"Top State Revenue: ${geo_performance.iloc[0]['total_revenue']:,.2f}\")\n",
        "print(f\"Top State AOV: ${geo_performance.iloc[0]['avg_order_value']:.2f}\")"
      ]
    },
    {
      "cell_type": "code",
      "execution_count": null,
      "metadata": {},
      "outputs": [],
      "source": [
        "# Create interactive geographic visualization\n",
        "geo_map = visualizer.create_geographic_map(geo_performance, f\"({TARGET_YEAR})\")\n",
        "geo_map.show()"
      ]
    },
    {
      "cell_type": "code",
      "execution_count": null,
      "metadata": {},
      "outputs": [],
      "source": [
        "# Create top states bar chart\n",
        "top_states = geo_performance.head(10)\n",
        "\n",
        "fig, (ax1, ax2) = plt.subplots(1, 2, figsize=(15, 6))\n",
        "fig.suptitle(f'Top 10 States Performance ({TARGET_YEAR})', fontsize=16, fontweight='bold')\n",
        "\n",
        "# Revenue by state\n",
        "ax1.barh(top_states['customer_state'], top_states['total_revenue'], color='steelblue', alpha=0.8)\n",
        "ax1.set_title('Total Revenue by State')\n",
        "ax1.set_xlabel('Total Revenue ($)')\n",
        "ax1.invert_yaxis()\n",
        "\n",
        "# AOV by state\n",
        "ax2.barh(top_states['customer_state'], top_states['avg_order_value'], color='darkorange', alpha=0.8)\n",
        "ax2.set_title('Average Order Value by State')\n",
        "ax2.set_xlabel('Average Order Value ($)')\n",
        "ax2.invert_yaxis()\n",
        "\n",
        "plt.tight_layout()\n",
        "plt.show()\n",
        "plt.close()"
      ]
    },
    {
      "cell_type": "markdown",
      "metadata": {},
      "source": [
        "## 7. Customer Experience Analysis {#customer-experience}\n",
        "\n",
        "Analysis of customer satisfaction metrics and the relationship between delivery performance and customer ratings."
      ]
    },
    {
      "cell_type": "code",
      "execution_count": null,
      "metadata": {},
      "outputs": [],
      "source": [
        "# Analyze customer satisfaction\n",
        "satisfaction_analysis = metrics.analyze_customer_satisfaction(\n",
        "    target_data, datasets['reviews']\n",
        ")\n",
        "\n",
        "print(\"CUSTOMER SATISFACTION ANALYSIS\")\n",
        "print(\"=\"*50)\n",
        "print(f\"\\nOverall Satisfaction Metrics ({TARGET_YEAR}):\")\n",
        "for _, row in satisfaction_analysis['overall_metrics'].iterrows():\n",
        "    if 'Score' in row['metric']:\n",
        "        print(f\"{row['metric']}: {row['value']:.2f}/5.0\")\n",
        "    elif 'Days' in row['metric']:\n",
        "        print(f\"{row['metric']}: {row['value']:.1f} days\")\n",
        "    else:\n",
        "        print(f\"{row['metric']}: {row['value']:,.0f}\")\n",
        "\n",
        "print(f\"\\nSatisfaction by Delivery Speed:\")\n",
        "print(satisfaction_analysis['delivery_satisfaction'])\n",
        "\n",
        "print(f\"\\nReview Score Distribution:\")\n",
        "print(satisfaction_analysis['score_distribution'])"
      ]
    },
    {
      "cell_type": "code",
      "execution_count": null,
      "metadata": {},
      "outputs": [],
      "source": [
        "# Create customer satisfaction visualization\n",
        "satisfaction_fig = visualizer.plot_customer_satisfaction(satisfaction_analysis)\n",
        "plt.show()\n",
        "plt.close()"
      ]
    },
    {
      "cell_type": "markdown",
      "metadata": {},
      "source": [
        "## 8. Operational Metrics {#operational-metrics}\n",
        "\n",
        "Analysis of operational KPIs including order status distribution and delivery performance metrics."
      ]
    },
    {
      "cell_type": "code",
      "execution_count": null,
      "metadata": {},
      "outputs": [],
      "source": [
        "# Calculate operational metrics\n",
        "operational_metrics = metrics.calculate_operational_metrics(\n",
        "    datasets['orders'], target_year=TARGET_YEAR\n",
        ")\n",
        "\n",
        "print(\"OPERATIONAL PERFORMANCE METRICS\")\n",
        "print(\"=\"*50)\n",
        "print(f\"\\nKey Operational KPIs ({TARGET_YEAR}):\")\n",
        "print(f\"Total Orders Processed: {operational_metrics['total_orders']:,}\")\n",
        "print(f\"Delivery Rate: {operational_metrics['delivery_rate_pct']:.1f}%\")\n",
        "print(f\"Cancellation Rate: {operational_metrics['cancellation_rate_pct']:.1f}%\")\n",
        "print(f\"Return Rate: {operational_metrics['return_rate_pct']:.1f}%\")\n",
        "print(f\"Average Delivery Time: {operational_metrics['avg_delivery_days']:.1f} days\")\n",
        "\n",
        "print(f\"\\nOrder Status Distribution:\")\n",
        "status_metrics = {k: v for k, v in operational_metrics.items() if k.endswith('_pct') and k != 'delivery_rate_pct'}\n",
        "for status, pct in status_metrics.items():\n",
        "    status_name = status.replace('_pct', '').replace('_', ' ').title()\n",
        "    print(f\"{status_name}: {pct:.1f}%\")"
      ]
    },
    {
      "cell_type": "code",
      "execution_count": null,
      "metadata": {},
      "outputs": [],
      "source": [
        "# Create operational metrics visualization\n",
        "fig, axes = plt.subplots(1, 2, figsize=(15, 6))\n",
        "fig.suptitle(f'Operational Performance Metrics ({TARGET_YEAR})', fontsize=16, fontweight='bold')\n",
        "\n",
        "# Order status distribution\n",
        "status_data = [(k.replace('_pct', '').replace('_', ' ').title(), v) \n",
        "               for k, v in operational_metrics.items() if k.endswith('_pct')]\n",
        "status_names, status_values = zip(*status_data)\n",
        "\n",
        "colors = ['green' if 'Delivered' in name else 'red' if any(x in name for x in ['Canceled', 'Returned']) \n",
        "          else 'orange' for name in status_names]\n",
        "\n",
        "wedges, texts, autotexts = axes[0].pie(status_values, labels=status_names, autopct='%1.1f%%', \n",
        "                                      colors=colors, alpha=0.8)\n",
        "axes[0].set_title('Order Status Distribution')\n",
        "\n",
        "# Key metrics bar chart\n",
        "key_metrics = [\n",
        "    ('Delivery Rate', operational_metrics['delivery_rate_pct']),\n",
        "    ('Cancellation Rate', operational_metrics['cancellation_rate_pct']),\n",
        "    ('Return Rate', operational_metrics['return_rate_pct'])\n",
        "]\n",
        "\n",
        "metric_names, metric_values = zip(*key_metrics)\n",
        "colors_bar = ['green', 'red', 'orange']\n",
        "\n",
        "bars = axes[1].bar(metric_names, metric_values, color=colors_bar, alpha=0.8)\n",
        "axes[1].set_title('Key Operational Metrics')\n",
        "axes[1].set_ylabel('Percentage (%)')\n",
        "\n",
        "# Add value labels on bars\n",
        "for bar, value in zip(bars, metric_values):\n",
        "    axes[1].text(bar.get_x() + bar.get_width()/2., bar.get_height() + 0.5,\n",
        "                f'{value:.1f}%', ha='center', va='bottom', fontweight='bold')\n",
        "\n",
        "plt.tight_layout()\n",
        "plt.show()\n",
        "plt.close()"
      ]
    },
    {
      "cell_type": "markdown",
      "metadata": {},
      "source": [
        "## 9. Executive Summary {#executive-summary}\n",
        "\n",
        "Comprehensive summary of key findings and business insights from the analysis."
      ]
    },
    {
      "cell_type": "code",
      "execution_count": null,
      "metadata": {},
      "outputs": [],
      "source": [
        "# Generate executive summary\n",
        "executive_summary = generate_executive_summary(\n",
        "    revenue_metrics, str(TARGET_YEAR), str(COMPARISON_YEAR)\n",
        ")\n",
        "\n",
        "print(executive_summary)"
      ]
    },
    {
      "cell_type": "code",
      "execution_count": null,
      "metadata": {},
      "outputs": [],
      "source": [
        "# Create executive dashboard summary\n",
        "fig = make_subplots(\n",
        "    rows=2, cols=2,\n",
        "    subplot_titles=('Revenue Trend', 'Top Categories', 'Geographic Performance', 'Customer Satisfaction'),\n",
        "    specs=[[{'type': 'scatter'}, {'type': 'bar'}],\n",
        "           [{'type': 'bar'}, {'type': 'bar'}]]\n",
        ")\n",
        "\n",
        "# Revenue trend\n",
        "month_names = ['Jan', 'Feb', 'Mar', 'Apr', 'May', 'Jun', \n",
        "              'Jul', 'Aug', 'Sep', 'Oct', 'Nov', 'Dec']\n",
        "trend_months = [month_names[m-1] for m in monthly_trends['month']]\n",
        "\n",
        "fig.add_trace(\n",
        "    go.Scatter(x=trend_months, y=monthly_trends['revenue'], \n",
        "               mode='lines+markers', name='Revenue', line=dict(color='steelblue')),\n",
        "    row=1, col=1\n",
        ")\n",
        "\n",
        "# Top categories\n",
        "top_5_categories = category_performance.head(5)\n",
        "cat_names = top_5_categories['product_category_name'].str.replace('_', ' ').str.title()\n",
        "\n",
        "fig.add_trace(\n",
        "    go.Bar(x=cat_names, y=top_5_categories['total_revenue'], \n",
        "           name='Category Revenue', marker_color='darkorange'),\n",
        "    row=1, col=2\n",
        ")\n",
        "\n",
        "# Top states\n",
        "top_5_states = geo_performance.head(5)\n",
        "\n",
        "fig.add_trace(\n",
        "    go.Bar(x=top_5_states['customer_state'], y=top_5_states['total_revenue'],\n",
        "           name='State Revenue', marker_color='green'),\n",
        "    row=2, col=1\n",
        ")\n",
        "\n",
        "# Customer satisfaction\n",
        "satisfaction_data = satisfaction_analysis['score_distribution']\n",
        "\n",
        "fig.add_trace(\n",
        "    go.Bar(x=satisfaction_data['review_score'], y=satisfaction_data['percentage'],\n",
        "           name='Review Distribution', marker_color='purple'),\n",
        "    row=2, col=2\n",
        ")\n",
        "\n",
        "fig.update_layout(\n",
        "    height=800,\n",
        "    title_text=f\"E-commerce Performance Dashboard ({TARGET_YEAR})\",\n",
        "    title_font_size=20,\n",
        "    title_x=0.5,\n",
        "    showlegend=False\n",
        ")\n",
        "\n",
        "fig.show()"
      ]
    },
    {
      "cell_type": "markdown",
      "metadata": {},
      "source": [
        "## Key Business Insights & Recommendations\n",
        "\n",
        "**Performance Highlights:**\n",
        "1. **Revenue Performance**: Analysis of year-over-year growth trends\n",
        "2. **Product Focus**: Identification of top-performing categories\n",
        "3. **Geographic Opportunities**: Regional performance variations\n",
        "4. **Customer Experience**: Delivery speed impact on satisfaction\n",
        "5. **Operational Efficiency**: Order fulfillment and delivery metrics\n",
        "\n",
        "**Strategic Recommendations:**\n",
        "- Focus on high-performing product categories for inventory expansion\n",
        "- Optimize delivery speed to improve customer satisfaction\n",
        "- Target geographic regions with growth potential\n",
        "- Monitor operational metrics to maintain service quality\n",
        "\n",
        "---\n",
        "\n",
        "*Analysis completed successfully. All metrics calculated using delivered orders only to ensure accurate revenue reporting.*"
      ]
    },
    {
      "cell_type": "code",
      "execution_count": null,
      "metadata": {},
      "outputs": [],
      "source": [
        "# Final summary statistics\n",
        "print(\"ANALYSIS COMPLETION SUMMARY\")\n",
        "print(\"=\"*50)\n",
        "print(f\"Analysis Period: {TARGET_YEAR}\")\n",
        "print(f\"Comparison Period: {COMPARISON_YEAR}\")\n",
        "print(f\"Records Analyzed: {len(target_data):,}\")\n",
        "print(f\"Total Revenue Analyzed: ${target_data['price'].sum():,.2f}\")\n",
        "print(f\"Unique Orders: {target_data['order_id'].nunique():,}\")\n",
        "print(f\"Unique Products: {target_data['product_id'].nunique():,}\")\n",
        "print(f\"\\nAnalysis completed at:\", pd.Timestamp.now().strftime('%Y-%m-%d %H:%M:%S'))"
      ]
    }
  ],
  "metadata": {
    "kernelspec": {
      "display_name": "Python 3",
      "language": "python",
      "name": "python3"
    },
    "language_info": {
      "codemirror_mode": {
        "name": "ipython",
        "version": 3
      },
      "file_extension": ".py",
      "mimetype": "text/x-python",
      "name": "python",
      "nbconvert_exporter": "python",
      "pygments_lexer": "ipython3",
      "version": "3.8.0"
    }
  },
  "nbformat": 4,
  "nbformat_minor": 4
}